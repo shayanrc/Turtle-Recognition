{
 "cells": [
  {
   "cell_type": "markdown",
   "metadata": {
    "id": "80wasOIL8kya"
   },
   "source": [
    "<a name=\"Load\"></a>\n",
    "## Load Data "
   ]
  },
  {
   "cell_type": "markdown",
   "metadata": {
    "id": "MnYW2dnSVZz6"
   },
   "source": [
    "Download the images from a GCP bucket (this only needs to run if running on colab or first run on local):"
   ]
  },
  {
   "cell_type": "code",
   "execution_count": 1,
   "metadata": {},
   "outputs": [],
   "source": [
    "import pandas as pd\n",
    "import requests\n",
    "import io\n",
    "import urllib.parse\n",
    "\n",
    "import numpy as np\n",
    "\n",
    "from PIL import Image\n",
    "\n",
    "\n",
    "\n",
    "import os\n",
    "\n",
    "import random\n",
    "\n",
    "import datetime as dt\n",
    "\n",
    "import matplotlib.pyplot as plt"
   ]
  },
  {
   "cell_type": "code",
   "execution_count": 3,
   "metadata": {},
   "outputs": [],
   "source": [
    "import tqdm"
   ]
  },
  {
   "cell_type": "code",
   "execution_count": 4,
   "metadata": {
    "id": "iUprO14QS54L"
   },
   "outputs": [],
   "source": [
    "import torch\n",
    "# from skimage import io\n",
    "from torch.utils.data import Dataset\n",
    "\n",
    "\n",
    "\n",
    "from torch.cuda.amp import GradScaler, autocast\n",
    "\n",
    "import torchvision\n",
    "from torchvision import models, transforms\n",
    "\n",
    "import torch.nn as nn\n",
    "import torch.optim as optim\n",
    "import torchvision.transforms.functional as F"
   ]
  },
  {
   "cell_type": "code",
   "execution_count": 5,
   "metadata": {
    "colab": {
     "base_uri": "https://localhost:8080/"
    },
    "id": "xLsn83pVMqDw",
    "outputId": "7e8b2c92-ad90-4d61-d3b8-ae367133718f"
   },
   "outputs": [
    {
     "name": "stdout",
     "output_type": "stream",
     "text": [
      "The total number of images is: 13891\n"
     ]
    }
   ],
   "source": [
    "SOURCE_URL = 'https://storage.googleapis.com/dm-turtle-recall/images.tar'\n",
    "IMAGE_DIR = './data/images'\n",
    "TAR_PATH = os.path.join(IMAGE_DIR, os.path.basename(SOURCE_URL))\n",
    "EXPECTED_IMAGE_COUNT = 13891\n",
    "\n",
    "%sx mkdir --parents \"{IMAGE_DIR}\"\n",
    "if len(os.listdir(IMAGE_DIR)) != EXPECTED_IMAGE_COUNT:\n",
    "  %sx wget --no-check-certificate -O \"{TAR_PATH}\" \"{SOURCE_URL}\"\n",
    "  %sx tar --extract --file=\"{TAR_PATH}\" --directory=\"{IMAGE_DIR}\"\n",
    "  %sx rm \"{TAR_PATH}\"\n",
    "\n",
    "print(f'The total number of images is: {len(os.listdir(IMAGE_DIR))}')"
   ]
  },
  {
   "cell_type": "markdown",
   "metadata": {
    "id": "vFo2l5BYegGv"
   },
   "source": [
    "Read in the train, test, and sample submission CSV files as pandas dataframes:"
   ]
  },
  {
   "cell_type": "code",
   "execution_count": 6,
   "metadata": {
    "id": "i_Q-Bqfn9Dry"
   },
   "outputs": [],
   "source": [
    "BASE_URL = 'https://storage.googleapis.com/dm-turtle-recall/'\n",
    "\n",
    "\n",
    "def read_csv_from_web(file_name):\n",
    "  url = urllib.parse.urljoin(BASE_URL, file_name)\n",
    "  content = requests.get(url).content\n",
    "  return pd.read_csv(io.StringIO(content.decode('utf-8')))"
   ]
  },
  {
   "cell_type": "code",
   "execution_count": 7,
   "metadata": {
    "id": "i_Q-Bqfn9Dry"
   },
   "outputs": [],
   "source": [
    "# Read in csv files.\n",
    "train_path = os.path.join(os.path.dirname(IMAGE_DIR), 'train.csv')\n",
    "if os.path.exists(train_path):\n",
    "    train = pd.read_csv(train_path)\n",
    "else:\n",
    "    train = read_csv_from_web('train.csv')\n",
    "    train.to_csv(train_path, index=False)\n",
    "    \n",
    "test_path = os.path.join(os.path.dirname(IMAGE_DIR), 'test.csv')\n",
    "if os.path.exists(test_path):\n",
    "    test = pd.read_csv(test_path)\n",
    "else:\n",
    "    test = read_csv_from_web('test.csv')\n",
    "    test.to_csv(test_path, index=False)\n",
    "  \n",
    "\n",
    "    \n",
    "extra_path = os.path.join(os.path.dirname(IMAGE_DIR), 'extra_images.csv')\n",
    "if os.path.exists(extra_path):\n",
    "    extra = pd.read_csv(extra_path)\n",
    "else:\n",
    "    extra = read_csv_from_web('extra_images.csv')\n",
    "    extra.to_csv(extra_path, index=False)\n",
    "   \n",
    "# Convert image_location strings to lowercase.\n",
    "for df in [train, test]:\n",
    "  df.image_location = df.image_location.apply(lambda x: x.lower())\n",
    "  assert set(df.image_location.unique()) == set(['left', 'right', 'top'])"
   ]
  },
  {
   "cell_type": "markdown",
   "metadata": {},
   "source": [
    "Quickly check the data"
   ]
  },
  {
   "cell_type": "code",
   "execution_count": 8,
   "metadata": {},
   "outputs": [
    {
     "data": {
      "text/html": [
       "<div>\n",
       "<style scoped>\n",
       "    .dataframe tbody tr th:only-of-type {\n",
       "        vertical-align: middle;\n",
       "    }\n",
       "\n",
       "    .dataframe tbody tr th {\n",
       "        vertical-align: top;\n",
       "    }\n",
       "\n",
       "    .dataframe thead th {\n",
       "        text-align: right;\n",
       "    }\n",
       "</style>\n",
       "<table border=\"1\" class=\"dataframe\">\n",
       "  <thead>\n",
       "    <tr style=\"text-align: right;\">\n",
       "      <th></th>\n",
       "      <th>image_id</th>\n",
       "      <th>image_location</th>\n",
       "      <th>turtle_id</th>\n",
       "    </tr>\n",
       "  </thead>\n",
       "  <tbody>\n",
       "    <tr>\n",
       "      <th>0</th>\n",
       "      <td>ID_2RK4WLN8</td>\n",
       "      <td>top</td>\n",
       "      <td>t_id_VP2NW7aV</td>\n",
       "    </tr>\n",
       "    <tr>\n",
       "      <th>1</th>\n",
       "      <td>ID_VVW0QXLX</td>\n",
       "      <td>left</td>\n",
       "      <td>t_id_qZ0iZYsC</td>\n",
       "    </tr>\n",
       "    <tr>\n",
       "      <th>2</th>\n",
       "      <td>ID_RVATH2HZ</td>\n",
       "      <td>right</td>\n",
       "      <td>t_id_3b65X5Lw</td>\n",
       "    </tr>\n",
       "    <tr>\n",
       "      <th>3</th>\n",
       "      <td>ID_2GB90GPS</td>\n",
       "      <td>left</td>\n",
       "      <td>t_id_YjXYTCGC</td>\n",
       "    </tr>\n",
       "    <tr>\n",
       "      <th>4</th>\n",
       "      <td>ID_LM6S0B1M</td>\n",
       "      <td>top</td>\n",
       "      <td>t_id_d6aYXtor</td>\n",
       "    </tr>\n",
       "  </tbody>\n",
       "</table>\n",
       "</div>"
      ],
      "text/plain": [
       "      image_id image_location      turtle_id\n",
       "0  ID_2RK4WLN8            top  t_id_VP2NW7aV\n",
       "1  ID_VVW0QXLX           left  t_id_qZ0iZYsC\n",
       "2  ID_RVATH2HZ          right  t_id_3b65X5Lw\n",
       "3  ID_2GB90GPS           left  t_id_YjXYTCGC\n",
       "4  ID_LM6S0B1M            top  t_id_d6aYXtor"
      ]
     },
     "execution_count": 8,
     "metadata": {},
     "output_type": "execute_result"
    }
   ],
   "source": [
    "train.head()"
   ]
  },
  {
   "cell_type": "code",
   "execution_count": 9,
   "metadata": {},
   "outputs": [
    {
     "data": {
      "text/html": [
       "<div>\n",
       "<style scoped>\n",
       "    .dataframe tbody tr th:only-of-type {\n",
       "        vertical-align: middle;\n",
       "    }\n",
       "\n",
       "    .dataframe tbody tr th {\n",
       "        vertical-align: top;\n",
       "    }\n",
       "\n",
       "    .dataframe thead th {\n",
       "        text-align: right;\n",
       "    }\n",
       "</style>\n",
       "<table border=\"1\" class=\"dataframe\">\n",
       "  <thead>\n",
       "    <tr style=\"text-align: right;\">\n",
       "      <th></th>\n",
       "      <th>image_id</th>\n",
       "      <th>image_location</th>\n",
       "    </tr>\n",
       "  </thead>\n",
       "  <tbody>\n",
       "    <tr>\n",
       "      <th>0</th>\n",
       "      <td>ID_6NEDKOYZ</td>\n",
       "      <td>top</td>\n",
       "    </tr>\n",
       "    <tr>\n",
       "      <th>1</th>\n",
       "      <td>ID_57QZ4S9N</td>\n",
       "      <td>left</td>\n",
       "    </tr>\n",
       "    <tr>\n",
       "      <th>2</th>\n",
       "      <td>ID_OCGGJS5X</td>\n",
       "      <td>left</td>\n",
       "    </tr>\n",
       "    <tr>\n",
       "      <th>3</th>\n",
       "      <td>ID_R2993S3S</td>\n",
       "      <td>top</td>\n",
       "    </tr>\n",
       "    <tr>\n",
       "      <th>4</th>\n",
       "      <td>ID_2E011NB0</td>\n",
       "      <td>left</td>\n",
       "    </tr>\n",
       "  </tbody>\n",
       "</table>\n",
       "</div>"
      ],
      "text/plain": [
       "      image_id image_location\n",
       "0  ID_6NEDKOYZ            top\n",
       "1  ID_57QZ4S9N           left\n",
       "2  ID_OCGGJS5X           left\n",
       "3  ID_R2993S3S            top\n",
       "4  ID_2E011NB0           left"
      ]
     },
     "execution_count": 9,
     "metadata": {},
     "output_type": "execute_result"
    }
   ],
   "source": [
    "test.head()"
   ]
  },
  {
   "cell_type": "code",
   "execution_count": 10,
   "metadata": {},
   "outputs": [
    {
     "data": {
      "text/html": [
       "<div>\n",
       "<style scoped>\n",
       "    .dataframe tbody tr th:only-of-type {\n",
       "        vertical-align: middle;\n",
       "    }\n",
       "\n",
       "    .dataframe tbody tr th {\n",
       "        vertical-align: top;\n",
       "    }\n",
       "\n",
       "    .dataframe thead th {\n",
       "        text-align: right;\n",
       "    }\n",
       "</style>\n",
       "<table border=\"1\" class=\"dataframe\">\n",
       "  <thead>\n",
       "    <tr style=\"text-align: right;\">\n",
       "      <th></th>\n",
       "      <th>image_id</th>\n",
       "      <th>turtle_id</th>\n",
       "    </tr>\n",
       "  </thead>\n",
       "  <tbody>\n",
       "    <tr>\n",
       "      <th>0</th>\n",
       "      <td>ID_Y0KYE5XD</td>\n",
       "      <td>t_id_he7JTQxO</td>\n",
       "    </tr>\n",
       "    <tr>\n",
       "      <th>1</th>\n",
       "      <td>ID_8JTIQ4UI</td>\n",
       "      <td>t_id_he7JTQxO</td>\n",
       "    </tr>\n",
       "    <tr>\n",
       "      <th>2</th>\n",
       "      <td>ID_LSXPZYSN</td>\n",
       "      <td>t_id_he7JTQxO</td>\n",
       "    </tr>\n",
       "    <tr>\n",
       "      <th>3</th>\n",
       "      <td>ID_SHZ2HDSP</td>\n",
       "      <td>t_id_he7JTQxO</td>\n",
       "    </tr>\n",
       "    <tr>\n",
       "      <th>4</th>\n",
       "      <td>ID_6TOFB06E</td>\n",
       "      <td>t_id_xry0Yg2j</td>\n",
       "    </tr>\n",
       "  </tbody>\n",
       "</table>\n",
       "</div>"
      ],
      "text/plain": [
       "      image_id      turtle_id\n",
       "0  ID_Y0KYE5XD  t_id_he7JTQxO\n",
       "1  ID_8JTIQ4UI  t_id_he7JTQxO\n",
       "2  ID_LSXPZYSN  t_id_he7JTQxO\n",
       "3  ID_SHZ2HDSP  t_id_he7JTQxO\n",
       "4  ID_6TOFB06E  t_id_xry0Yg2j"
      ]
     },
     "execution_count": 10,
     "metadata": {},
     "output_type": "execute_result"
    }
   ],
   "source": [
    "extra.head()"
   ]
  },
  {
   "cell_type": "markdown",
   "metadata": {
    "id": "Lij8pp6xVGBG"
   },
   "source": [
    "## Datasets and Dataloaders"
   ]
  },
  {
   "cell_type": "markdown",
   "metadata": {},
   "source": [
    "### Dataset for Triplet Loss"
   ]
  },
  {
   "cell_type": "code",
   "execution_count": 11,
   "metadata": {
    "id": "bc2qIh1fVq-i"
   },
   "outputs": [],
   "source": [
    "# Dataset to generate triplets (anchor, positive, negative) for training\n",
    "class TripletDataset(Dataset):\n",
    "\n",
    "    def __init__(self, root_dir, labels_df, num_triplets, easy_mode=False, transform=None):\n",
    "\n",
    "        self.root_dir = root_dir\n",
    "        self.df = labels_df\n",
    "        self.num_triplets = num_triplets\n",
    "        self.transform = transform\n",
    "        self.training_triplets = self.generate_triplets(self.df, self.num_triplets, easy_mode)\n",
    "        self.easy_mode = easy_mode\n",
    "\n",
    "\n",
    "    @staticmethod\n",
    "    def generate_triplets(df, num_triplets, easy_mode):\n",
    "\n",
    "        def make_dictionary_for_turtle_classes(df, easy_mode):\n",
    "            orientations = df['image_location'].unique().tolist()\n",
    "            turtle_classes = {}\n",
    "            if easy_mode:\n",
    "              for turtle_id in train['turtle_id'].unique():\n",
    "                for orientation in orientations:\n",
    "                  turtle_image_ids = train[(train['turtle_id']==turtle_id) & (train['image_location']==orientation)]['image_id'].tolist()\n",
    "                  turtle_classes[turtle_id]=turtle_image_ids\n",
    "            else:\n",
    "              for turtle_id in train['turtle_id'].unique():\n",
    "                turtle_image_ids = train[train['turtle_id']==turtle_id]['image_id'].tolist()\n",
    "                turtle_classes[turtle_id]=turtle_image_ids\n",
    "            return turtle_classes\n",
    "\n",
    "        triplets = []\n",
    "        classes = df['turtle_id'].unique()\n",
    "        turtle_classes = make_dictionary_for_turtle_classes(df, easy_mode)\n",
    "\n",
    "        for _ in range(num_triplets):\n",
    "\n",
    "            '''\n",
    "              - randomly choose anchor, positive and negative images for triplet loss\n",
    "              - anchor and positive images in pos_class\n",
    "              - negative image in neg_class\n",
    "              - at least, two images needed for anchor and positive images in pos_class\n",
    "              - negative image should have different class as anchor and positive images by definition\n",
    "            '''\n",
    "\n",
    "            pos_class = np.random.choice(classes)\n",
    "            neg_class = np.random.choice(classes)\n",
    "            while len(turtle_classes[pos_class]) < 2:\n",
    "                pos_class = np.random.choice(classes)\n",
    "            while pos_class == neg_class:\n",
    "                neg_class = np.random.choice(classes)\n",
    "\n",
    "\n",
    "            if len(turtle_classes[pos_class]) == 2:\n",
    "                ianc, ipos = np.random.choice(2, size=2, replace=False)\n",
    "            else:\n",
    "                ianc = np.random.randint(0, len(turtle_classes[pos_class]))\n",
    "                ipos = np.random.randint(0, len(turtle_classes[pos_class]))\n",
    "                while ianc == ipos:\n",
    "                    ipos = np.random.randint(0, len(turtle_classes[pos_class]))\n",
    "            ineg = np.random.randint(0, len(turtle_classes[neg_class]))\n",
    "\n",
    "            anc_id = turtle_classes[pos_class][ianc]\n",
    "            pos_id = turtle_classes[pos_class][ipos]\n",
    "            neg_id = turtle_classes[neg_class][ineg]\n",
    "\n",
    "            triplets.append(\n",
    "                [anc_id, pos_id, neg_id, pos_class, neg_class])\n",
    "\n",
    "        return triplets\n",
    "\n",
    "    def __getitem__(self, idx):\n",
    "        anc_id, pos_id, neg_id, pos_class, neg_class = self.training_triplets[idx]\n",
    "\n",
    "        anc_img = os.path.join(self.root_dir, anc_id +'.JPG')\n",
    "        pos_img = os.path.join(self.root_dir, pos_id +'.JPG')\n",
    "        neg_img = os.path.join(self.root_dir, neg_id +'.JPG')\n",
    "\n",
    "        anc_img = Image.open(anc_img)\n",
    "        pos_img = Image.open(pos_img)\n",
    "        neg_img = Image.open(neg_img)\n",
    "\n",
    "        # pos_class = torch.from_numpy(np.array([pos_class]).astype('long'))\n",
    "        # neg_class = torch.from_numpy(np.array([neg_class]).astype('long'))\n",
    "\n",
    "        sample = {'anc_img': anc_img, 'pos_img': pos_img, 'neg_img': neg_img, 'pos_class': pos_class,\n",
    "                  'neg_class': neg_class}\n",
    "\n",
    "        if self.transform:\n",
    "            sample['anc_img'] = self.transform(sample['anc_img'])\n",
    "            sample['pos_img'] = self.transform(sample['pos_img'])\n",
    "            sample['neg_img'] = self.transform(sample['neg_img'])\n",
    "\n",
    "        return sample\n",
    "\n",
    "    def __len__(self):\n",
    "        return len(self.training_triplets)"
   ]
  },
  {
   "cell_type": "markdown",
   "metadata": {},
   "source": [
    "### Dataset for Embedding Training"
   ]
  },
  {
   "cell_type": "code",
   "execution_count": 12,
   "metadata": {
    "id": "bc2qIh1fVq-i"
   },
   "outputs": [],
   "source": [
    "# Dataset to generate samples for embedding loss (img1, img2, +/-1)\n",
    "class EmbeddingDataset(Dataset):\n",
    "\n",
    "    def __init__(self, root_dir, labels_df, num_samples, easy_mode=False, transform=None):\n",
    "\n",
    "        self.root_dir = root_dir\n",
    "        self.df = labels_df\n",
    "        self.num_samples = num_samples\n",
    "        self.transform = transform\n",
    "        self.training_samples = self.generate_samples(self.df, self.num_triplets, easy_mode)\n",
    "        self.easy_mode = easy_mode\n",
    "\n",
    "\n",
    "    @staticmethod\n",
    "    def generate_samples(df, num_samples, easy_mode):\n",
    "\n",
    "        def make_dictionary_for_turtle_classes(df, classes, easy_mode):\n",
    "            orientations = df['image_location'].unique().tolist()\n",
    "            \n",
    "            turtle_classes = {}\n",
    "            \n",
    "            if easy_mode:\n",
    "                \n",
    "                for turtle_id in classes:\n",
    "                    for orientation in orientations:\n",
    "                        turtle_image_ids = df[(df['turtle_id']==turtle_id) & (df['image_location']==orientation)]['image_id'].tolist()\n",
    "                  \n",
    "            else:\n",
    "                for turtle_id in classes:\n",
    "                    turtle_image_ids = df[df['turtle_id']==df]['image_id'].tolist()\n",
    "                    turtle_classes[turtle_id]=turtle_image_ids\n",
    "            \n",
    "            return turtle_classes\n",
    "\n",
    "        samples = []\n",
    "        classes = df['turtle_id'].unique()\n",
    "        turtle_classes = make_dictionary_for_turtle_classes(df, classes,easy_mode)\n",
    "\n",
    "        for _ in range(num_samples):\n",
    "\n",
    "            \n",
    "            # Randomly select whether to generate positive or negative sample\n",
    "            is_positive_sample = random.choice([True, False])\n",
    "            \n",
    "            if is_positive_sample:\n",
    "                    pos_class = np.random.choice(classes)\n",
    "                    \n",
    "                    if easy_mode:\n",
    "                        orientation = df['image_location'].sample().values[0]\n",
    "                        while len(turtle_classes[pos_class][orientation]) < 2:\n",
    "                            pos_class = np.random.choice(classes)\n",
    "                            orientation = df['image_location'].sample().values[0]\n",
    "                        pos_imgs = turtle_classes[pos_class][orientation]\n",
    "                    else:\n",
    "                        while len(turtle_classes[pos_class]) < 2:\n",
    "                            pos_class = np.random.choice(classes)\n",
    "                        pos_imgs = turtle_classes[pos_class]\n",
    "                    \n",
    "                    img1, img2 = np.random.choice(pos_imgs, size=2, replace=False)\n",
    "                    \n",
    "                    sample = (img1, img2, 1)\n",
    "                    \n",
    "            else:\n",
    "                    pos_class = np.random.choice(classes)\n",
    "                    neg_class = np.random.choice(classes)\n",
    "                    # Resample if positive and negative classes are same\n",
    "                    while pos_class == neg_class:\n",
    "                        neg_class = np.random.choice(classes)\n",
    "                    if easy_mode:\n",
    "                        orientation = df['image_location'].sample().values[0]\n",
    "                        pos_imgs = turtle_classes[pos_class][orientation]\n",
    "                        # Resample if negative class has no images with same orientation\n",
    "                        while len(turtle_classes[neg_class][orientation])==0:\n",
    "                            neg_class = np.random.choice(classes)\n",
    "                        \n",
    "                        neg_imgs = turtle_classes[neg_class][orientation]\n",
    "                    else:\n",
    "                        pos_imgs = turtle_classes[pos_class]\n",
    "                        neg_imgs = turtle_classes[neg_class]\n",
    "                            \n",
    "                    img1 = np.random.choice(pos_imgs)\n",
    "                    img2 = np.random.choice(neg_imgs)\n",
    "                    \n",
    "                    sample = (img1, img2, -1)\n",
    "                    \n",
    "            samples.append(samples)\n",
    "\n",
    "        return samples\n",
    "\n",
    "    def __getitem__(self, idx):\n",
    "        img1_id, img2_id, y = self.samples[idx]\n",
    "\n",
    "        img1_path = os.path.join(self.root_dir, img1_id +'.JPG')\n",
    "        img2_path = os.path.join(self.root_dir, img2_id +'.JPG')\n",
    "\n",
    "        img1 = Image.open(img1_path)\n",
    "        img2 = Image.open(img2_path)\n",
    "\n",
    "\n",
    "        if self.transform:\n",
    "            img1 = self.transform(img1)\n",
    "            img2 = self.transform(img2)\n",
    "\n",
    "        return img1, img2, y\n",
    "\n",
    "    def __len__(self):\n",
    "        return self.num_samples"
   ]
  },
  {
   "cell_type": "markdown",
   "metadata": {},
   "source": [
    "### Simple Dataset \n",
    "Treats the problem as a simple classification problem"
   ]
  },
  {
   "cell_type": "code",
   "execution_count": 13,
   "metadata": {
    "id": "bc2qIh1fVq-i"
   },
   "outputs": [],
   "source": [
    "# Dataset to generate triplets (anchor, positive, negative) for training\n",
    "class TurtleDataSet(Dataset):\n",
    "    \"\"\"\n",
    "    Args:\n",
    "        root_dir (string): Root directory of dataset  images\n",
    "        labels_df (Dataframe): \n",
    "        label_ids (list): list of ids in training set\n",
    "        transform (callable, optional): A function/transform that  takes in an PIL image\n",
    "            and returns a transformed version. E.g, ``transforms.RandomCrop``\n",
    "        include_orientation (boolean, optional): whether to include orientation as well\n",
    "    \"\"\"\n",
    "    def __init__(self, root_dir, labels_df, label_ids, transform=None, include_orientation=True):\n",
    "\n",
    "        self.root_dir = root_dir\n",
    "        self.include_orientation = include_orientation\n",
    "        if self.include_orientation:\n",
    "            # self.df = pd.concat([labels_df['image_id'], \n",
    "            #                      pd.get_dummies(labels_df['image_location']), \n",
    "            #                      pd.get_dummies(labels_df['turtle_id'])], \n",
    "            #                     axis=1)\n",
    "            self.df = labels_df\n",
    "        else:\n",
    "            self.df = labels_df[['image_id', 'turtle_id']]\n",
    "        # self.df = pd.concat([labels_df['image_id'], pd.get_dummies(labels_df['image_location']), labels_df['turtle_id']], axis=1)\n",
    "        self.turtle_ids = label_ids\n",
    "        self.transform = transform\n",
    "        self.orientation_map = {'left': 0,\n",
    "                                'right': 1,\n",
    "                                'top': 2}\n",
    "\n",
    "    def __getitem__(self, idx):\n",
    "\n",
    "        # id_labels = self.df.loc[idx, self.df.columns.str.startswith('t_id')].values.argmax()\n",
    "        # id_labels = self.df.loc[idx, self.df.columns.str.startswith('t_id')].values\n",
    "        \n",
    "        \n",
    "        turtle_id = self.df.loc[idx, 'turtle_id']\n",
    "        try:\n",
    "            id_label = turtle_ids.index(turtle_id)\n",
    "        except ValueError:\n",
    "            id_label = len(self.turtle_ids)\n",
    "        \n",
    "        image_id = self.df.loc[idx, 'image_id']\n",
    "        img_path = os.path.join(self.root_dir, image_id +'.JPG')\n",
    "        img = Image.open(img_path)\n",
    "\n",
    "        if self.transform:\n",
    "            img = self.transform(img)\n",
    "            \n",
    "        \n",
    "        if self.include_orientation:\n",
    "            try:\n",
    "                orientation_label = self.orientation_map[self.df.loc[idx, 'image_location']]\n",
    "            except:\n",
    "                orientation_label = random.choice([0,1,2])\n",
    "\n",
    "            return {'img':img,\n",
    "                    'image_id':image_id,\n",
    "                    'orientation':orientation_label}\n",
    "        else:\n",
    "            \n",
    "            return {'img':img, \n",
    "                    'image_id':image_id,\n",
    "                    'id':id_label}\n",
    "\n",
    "    def __len__(self):\n",
    "        return len(self.df)"
   ]
  },
  {
   "cell_type": "markdown",
   "metadata": {},
   "source": [
    "Add some unknown turtles to the training set"
   ]
  },
  {
   "cell_type": "code",
   "execution_count": 14,
   "metadata": {},
   "outputs": [],
   "source": [
    "turtle_ids = train.turtle_id.unique().tolist()"
   ]
  },
  {
   "cell_type": "code",
   "execution_count": 15,
   "metadata": {},
   "outputs": [],
   "source": [
    "unknown_ids = set(extra.turtle_id.unique()) - set(train.turtle_id.unique())\n",
    "\n",
    "unknown_train_ids = random.sample(list(unknown_ids), 100)\n",
    "\n",
    "train_df = [train]\n",
    "for unknown_train_id in unknown_train_ids:\n",
    "    train_df.append(extra[extra.turtle_id==unknown_train_id])\n",
    "\n",
    "train_df = pd.concat(train_df).reset_index()"
   ]
  },
  {
   "cell_type": "code",
   "execution_count": 16,
   "metadata": {},
   "outputs": [
    {
     "data": {
      "text/plain": [
       "2145"
      ]
     },
     "execution_count": 16,
     "metadata": {},
     "output_type": "execute_result"
    }
   ],
   "source": [
    "len(train)"
   ]
  },
  {
   "cell_type": "code",
   "execution_count": 17,
   "metadata": {},
   "outputs": [
    {
     "data": {
      "text/plain": [
       "2165"
      ]
     },
     "execution_count": 17,
     "metadata": {},
     "output_type": "execute_result"
    }
   ],
   "source": [
    "len(unknown_ids)"
   ]
  },
  {
   "cell_type": "code",
   "execution_count": 18,
   "metadata": {},
   "outputs": [
    {
     "name": "stdout",
     "output_type": "stream",
     "text": [
      "504 images of unkown turtles added\n"
     ]
    }
   ],
   "source": [
    "print(\"%d images of unkown turtles added\"%train_df.image_location.isna().sum())"
   ]
  },
  {
   "cell_type": "code",
   "execution_count": 19,
   "metadata": {},
   "outputs": [],
   "source": [
    "train_df.loc[train_df.image_location.isna(), 'turtle_id'] = 'new_turtle'"
   ]
  },
  {
   "cell_type": "code",
   "execution_count": 20,
   "metadata": {},
   "outputs": [],
   "source": [
    "train_df = train_df.drop('index', axis=1)"
   ]
  },
  {
   "cell_type": "code",
   "execution_count": 21,
   "metadata": {},
   "outputs": [],
   "source": [
    "turtle_weights = (train_df.groupby('turtle_id')['image_id'].count()/train_df.shape[0]).reset_index().sort_values('turtle_id', ascending=False).reset_index(drop=True)"
   ]
  },
  {
   "cell_type": "code",
   "execution_count": 22,
   "metadata": {},
   "outputs": [],
   "source": [
    "turtle_ids = turtle_weights['turtle_id'].tolist()[:-1]"
   ]
  },
  {
   "cell_type": "code",
   "execution_count": 23,
   "metadata": {},
   "outputs": [],
   "source": [
    "device = torch.device('cuda:0' if torch.cuda.is_available() else 'cpu')"
   ]
  },
  {
   "cell_type": "markdown",
   "metadata": {},
   "source": [
    "## Image Transforms"
   ]
  },
  {
   "cell_type": "code",
   "execution_count": 24,
   "metadata": {
    "id": "qahW009DB72E"
   },
   "outputs": [],
   "source": [
    "# A custom transform to pad all images in a batch to same size,  taken from https://discuss.pytorch.org/t/how-to-resize-and-pad-in-a-torchvision-transforms-compose/71850/5\n",
    "class SquarePad:\n",
    "\tdef __call__(self, image):\n",
    "\t\tw, h = image.size\n",
    "\t\tmax_wh = np.max([w, h])\n",
    "\t\thp = int((max_wh - w) / 2)\n",
    "\t\tvp = int((max_wh - h) / 2)\n",
    "\t\tpadding = (hp, vp, hp, vp)\n",
    "\t\treturn F.pad(image, padding, 0, 'constant')"
   ]
  },
  {
   "cell_type": "markdown",
   "metadata": {},
   "source": [
    "## Competition Metrics"
   ]
  },
  {
   "cell_type": "code",
   "execution_count": 25,
   "metadata": {
    "id": "YWZ6OIUW1YDn",
    "tags": []
   },
   "outputs": [],
   "source": [
    "def apk(actual, predicted, k=5):\n",
    "  \"\"\"Computes the average precision at k.\n",
    "\n",
    "  Args:\n",
    "    actual: The turtle ID to be predicted.\n",
    "    predicted : A list of predicted turtle IDs (order does matter).\n",
    "    k : The maximum number of predicted elements.\n",
    "\n",
    "  Returns:\n",
    "    The average precision at k.\n",
    "  \"\"\"\n",
    "  if len(predicted) > k:\n",
    "    predicted = predicted[:k]\n",
    "\n",
    "  score = 0.0\n",
    "  num_hits = 0.0\n",
    "\n",
    "  for i, p in enumerate(predicted):\n",
    "    if p == actual and p not in predicted[:i]:\n",
    "      num_hits += 1.0\n",
    "      score += num_hits / (i + 1.0)\n",
    "\n",
    "  return score\n",
    "\n",
    "\n",
    "def mapk(actual, predicted, k=5):\n",
    "  \"\"\" Computes the mean average precision at k.\n",
    "\n",
    "    The turtle ID at actual[i] will be used to score predicted[i][:k] so order\n",
    "    matters throughout!\n",
    "\n",
    "    actual: A list of the true turtle IDs to score against.\n",
    "    predicted: A list of lists of predicted turtle IDs.\n",
    "    k: The size of the window to score within.\n",
    "\n",
    "    Returns:\n",
    "      The mean average precision at k.\n",
    "  \"\"\"\n",
    "  return np.mean([apk(a, p, k) for a, p in zip(actual, predicted)])"
   ]
  },
  {
   "cell_type": "code",
   "execution_count": 26,
   "metadata": {},
   "outputs": [],
   "source": [
    "def get_id_from_idx(idx, ids=turtle_ids):\n",
    "    try:\n",
    "        return ids[idx]\n",
    "    except IndexError:\n",
    "        return \"new_turtle\"\n",
    "\n",
    "mapper = np.vectorize(get_id_from_idx)"
   ]
  },
  {
   "cell_type": "markdown",
   "metadata": {},
   "source": [
    "## As Classification"
   ]
  },
  {
   "cell_type": "markdown",
   "metadata": {},
   "source": [
    "### EfficientNet"
   ]
  },
  {
   "cell_type": "code",
   "execution_count": 182,
   "metadata": {
    "id": "JWb22YXTyKIt"
   },
   "outputs": [
    {
     "name": "stderr",
     "output_type": "stream",
     "text": [
      "Downloading: \"https://download.pytorch.org/models/efficientnet_b2_rwightman-bcdf34b7.pth\" to /home/xion/.cache/torch/hub/checkpoints/efficientnet_b2_rwightman-bcdf34b7.pth\n"
     ]
    },
    {
     "data": {
      "application/vnd.jupyter.widget-view+json": {
       "model_id": "732f578400104a1f90c5758d64789c09",
       "version_major": 2,
       "version_minor": 0
      },
      "text/plain": [
       "HBox(children=(FloatProgress(value=0.0, max=36882185.0), HTML(value='')))"
      ]
     },
     "metadata": {},
     "output_type": "display_data"
    },
    {
     "name": "stdout",
     "output_type": "stream",
     "text": [
      "\n"
     ]
    }
   ],
   "source": [
    "model_conv = torchvision.models.efficientnet_b2(pretrained=True)"
   ]
  },
  {
   "cell_type": "code",
   "execution_count": 205,
   "metadata": {},
   "outputs": [
    {
     "data": {
      "text/plain": [
       "ConvNormActivation(\n",
       "  (0): Conv2d(352, 1408, kernel_size=(1, 1), stride=(1, 1), bias=False)\n",
       "  (1): BatchNorm2d(1408, eps=1e-05, momentum=0.1, affine=True, track_running_stats=True)\n",
       "  (2): SiLU(inplace=True)\n",
       ")"
      ]
     },
     "execution_count": 205,
     "metadata": {},
     "output_type": "execute_result"
    }
   ],
   "source": [
    "# Freeze all weights\n",
    "for param in model_conv.parameters():\n",
    "    param.requires_grad = False\n",
    "\n",
    "# Add a new layer on top\n",
    "num_ftrs = model_conv.classifier[1].in_features\n",
    "model_conv.classifier = nn.Sequential(nn.Dropout(p=0.3, inplace=True), nn.Linear(num_ftrs,len(turtle_ids)+1), nn.ReLU())\n",
    "# model_conv.classifier[6] = nn.Linear(num_ftrs,100)\n",
    "\n",
    "# Unfreeze the weights of the classifier\n",
    "model_conv.requires_grad_(True)\n",
    "\n",
    "# AS well as the last feature layers\n",
    "model_conv.features[-1].requires_grad_(True)"
   ]
  },
  {
   "cell_type": "code",
   "execution_count": 206,
   "metadata": {
    "id": "qahW009DB72E"
   },
   "outputs": [],
   "source": [
    "img_transform = transforms.Compose([\n",
    "                                    SquarePad(),\n",
    "                                    transforms.PILToTensor(),\n",
    "                                    transforms.ConvertImageDtype(torch.float32),\n",
    "                                    transforms.Resize((128,128))\n",
    "                                                      ])"
   ]
  },
  {
   "cell_type": "code",
   "execution_count": 207,
   "metadata": {
    "id": "Y0tRzpnKo27I"
   },
   "outputs": [],
   "source": [
    "dataset = TurtleDataSet(IMAGE_DIR, train_df, turtle_ids, transform=img_transform, include_orientation=False)"
   ]
  },
  {
   "cell_type": "code",
   "execution_count": 208,
   "metadata": {},
   "outputs": [],
   "source": [
    "batch_size = 128"
   ]
  },
  {
   "cell_type": "code",
   "execution_count": 209,
   "metadata": {},
   "outputs": [],
   "source": [
    "num_epoch_steps = int(np.ceil(len(dataset)/batch_size))"
   ]
  },
  {
   "cell_type": "code",
   "execution_count": 210,
   "metadata": {},
   "outputs": [
    {
     "data": {
      "text/plain": [
       "21"
      ]
     },
     "execution_count": 210,
     "metadata": {},
     "output_type": "execute_result"
    }
   ],
   "source": [
    "num_epoch_steps"
   ]
  },
  {
   "cell_type": "code",
   "execution_count": 211,
   "metadata": {},
   "outputs": [],
   "source": [
    "# cross_entropy = nn.CrossEntropyLoss(weight=torch.tensor(turtle_weights['image_id'].values, dtype=torch.float).to(device))\n",
    "cross_entropy = nn.CrossEntropyLoss()"
   ]
  },
  {
   "cell_type": "code",
   "execution_count": 212,
   "metadata": {
    "colab": {
     "base_uri": "https://localhost:8080/"
    },
    "id": "Sw2hA1aQCQx3",
    "outputId": "f9f84986-1a75-4239-a6a1-80f1fa0d99b0"
   },
   "outputs": [],
   "source": [
    "model_conv.to(device)\n",
    "model_conv.train();"
   ]
  },
  {
   "cell_type": "code",
   "execution_count": 213,
   "metadata": {
    "colab": {
     "base_uri": "https://localhost:8080/"
    },
    "id": "Sw2hA1aQCQx3",
    "outputId": "f9f84986-1a75-4239-a6a1-80f1fa0d99b0",
    "tags": []
   },
   "outputs": [],
   "source": [
    "top_k_precisions = []\n",
    "epoch_losses = []"
   ]
  },
  {
   "cell_type": "code",
   "execution_count": 214,
   "metadata": {},
   "outputs": [],
   "source": [
    "torch.cuda.empty_cache()"
   ]
  },
  {
   "cell_type": "code",
   "execution_count": 215,
   "metadata": {
    "id": "S2PGm8o7SRXy"
   },
   "outputs": [],
   "source": [
    "optimizer_model = optim.AdamW(filter(lambda p: p.requires_grad, model_conv.parameters()),\n",
    "                             lr=0.001, weight_decay=0.001)\n",
    "\n",
    "lr_scheduler = torch.optim.lr_scheduler.OneCycleLR(optimizer_model,\n",
    "                                                   max_lr=0.0001,\n",
    "                                                   anneal_strategy='linear',\n",
    "                                                   epochs=50,\n",
    "                                                   steps_per_epoch=num_epoch_steps\n",
    "                                                   # three_phase=True\n",
    "                                                  )"
   ]
  },
  {
   "cell_type": "code",
   "execution_count": 216,
   "metadata": {
    "colab": {
     "base_uri": "https://localhost:8080/"
    },
    "id": "Sw2hA1aQCQx3",
    "outputId": "f9f84986-1a75-4239-a6a1-80f1fa0d99b0",
    "tags": []
   },
   "outputs": [
    {
     "name": "stderr",
     "output_type": "stream",
     "text": [
      "Epoch 1 - MAP@k : 0.023783 - Learning Rate : 0.000010: 100%|████████████████████████████████████████████████████████| 21/21 [02:20<00:00,  6.71s/it]\n",
      "  0%|                                                                                                                        | 0/21 [00:00<?, ?it/s]"
     ]
    },
    {
     "name": "stdout",
     "output_type": "stream",
     "text": [
      "Epoch 1 - MAP@k : 0.031093 - Loss 4.605620\n"
     ]
    },
    {
     "name": "stderr",
     "output_type": "stream",
     "text": [
      "Epoch 2 - MAP@k : 0.105618 - Learning Rate : 0.000017: 100%|████████████████████████████████████████████████████████| 21/21 [01:53<00:00,  5.39s/it]\n",
      "  0%|                                                                                                                        | 0/21 [00:00<?, ?it/s]"
     ]
    },
    {
     "name": "stdout",
     "output_type": "stream",
     "text": [
      "Epoch 2 - MAP@k : 0.073767 - Loss 4.536718\n"
     ]
    },
    {
     "name": "stderr",
     "output_type": "stream",
     "text": [
      "Epoch 3 - MAP@k : 0.248689 - Learning Rate : 0.000023: 100%|████████████████████████████████████████████████████████| 21/21 [01:57<00:00,  5.57s/it]\n",
      "  0%|                                                                                                                        | 0/21 [00:00<?, ?it/s]"
     ]
    },
    {
     "name": "stdout",
     "output_type": "stream",
     "text": [
      "Epoch 3 - MAP@k : 0.193409 - Loss 4.374535\n"
     ]
    },
    {
     "name": "stderr",
     "output_type": "stream",
     "text": [
      "Epoch 4 - MAP@k : 0.366479 - Learning Rate : 0.000030: 100%|████████████████████████████████████████████████████████| 21/21 [01:54<00:00,  5.47s/it]\n",
      "  0%|                                                                                                                        | 0/21 [00:00<?, ?it/s]"
     ]
    },
    {
     "name": "stdout",
     "output_type": "stream",
     "text": [
      "Epoch 4 - MAP@k : 0.286865 - Loss 4.145791\n"
     ]
    },
    {
     "name": "stderr",
     "output_type": "stream",
     "text": [
      "Epoch 5 - MAP@k : 0.408989 - Learning Rate : 0.000036: 100%|████████████████████████████████████████████████████████| 21/21 [01:58<00:00,  5.64s/it]\n",
      "  0%|                                                                                                                        | 0/21 [00:00<?, ?it/s]"
     ]
    },
    {
     "name": "stdout",
     "output_type": "stream",
     "text": [
      "Epoch 5 - MAP@k : 0.384295 - Loss 3.817629\n"
     ]
    },
    {
     "name": "stderr",
     "output_type": "stream",
     "text": [
      "Epoch 6 - MAP@k : 0.488951 - Learning Rate : 0.000043: 100%|████████████████████████████████████████████████████████| 21/21 [01:59<00:00,  5.70s/it]\n",
      "  0%|                                                                                                                        | 0/21 [00:00<?, ?it/s]"
     ]
    },
    {
     "name": "stdout",
     "output_type": "stream",
     "text": [
      "Epoch 6 - MAP@k : 0.496039 - Loss 3.441750\n"
     ]
    },
    {
     "name": "stderr",
     "output_type": "stream",
     "text": [
      "Epoch 7 - MAP@k : 0.602247 - Learning Rate : 0.000049: 100%|████████████████████████████████████████████████████████| 21/21 [01:58<00:00,  5.63s/it]\n",
      "  0%|                                                                                                                        | 0/21 [00:00<?, ?it/s]"
     ]
    },
    {
     "name": "stdout",
     "output_type": "stream",
     "text": [
      "Epoch 7 - MAP@k : 0.598929 - Loss 3.088528\n"
     ]
    },
    {
     "name": "stderr",
     "output_type": "stream",
     "text": [
      "Epoch 8 - MAP@k : 0.672285 - Learning Rate : 0.000055: 100%|████████████████████████████████████████████████████████| 21/21 [02:01<00:00,  5.80s/it]\n",
      "  0%|                                                                                                                        | 0/21 [00:00<?, ?it/s]"
     ]
    },
    {
     "name": "stdout",
     "output_type": "stream",
     "text": [
      "Epoch 8 - MAP@k : 0.680265 - Loss 2.736912\n"
     ]
    },
    {
     "name": "stderr",
     "output_type": "stream",
     "text": [
      "Epoch 9 - MAP@k : 0.756367 - Learning Rate : 0.000062: 100%|████████████████████████████████████████████████████████| 21/21 [02:03<00:00,  5.86s/it]\n",
      "  0%|                                                                                                                        | 0/21 [00:00<?, ?it/s]"
     ]
    },
    {
     "name": "stdout",
     "output_type": "stream",
     "text": [
      "Epoch 9 - MAP@k : 0.755834 - Loss 2.373123\n"
     ]
    },
    {
     "name": "stderr",
     "output_type": "stream",
     "text": [
      "Epoch 10 - MAP@k : 0.711049 - Learning Rate : 0.000068: 100%|███████████████████████████████████████████████████████| 21/21 [02:05<00:00,  5.98s/it]\n",
      "  0%|                                                                                                                        | 0/21 [00:00<?, ?it/s]"
     ]
    },
    {
     "name": "stdout",
     "output_type": "stream",
     "text": [
      "Epoch 10 - MAP@k : 0.807774 - Loss 2.049667\n"
     ]
    },
    {
     "name": "stderr",
     "output_type": "stream",
     "text": [
      "Epoch 11 - MAP@k : 0.859925 - Learning Rate : 0.000075: 100%|███████████████████████████████████████████████████████| 21/21 [01:59<00:00,  5.69s/it]\n",
      "  0%|                                                                                                                        | 0/21 [00:00<?, ?it/s]"
     ]
    },
    {
     "name": "stdout",
     "output_type": "stream",
     "text": [
      "Epoch 11 - MAP@k : 0.842896 - Loss 1.753963\n"
     ]
    },
    {
     "name": "stderr",
     "output_type": "stream",
     "text": [
      "Epoch 12 - MAP@k : 0.953184 - Learning Rate : 0.000081: 100%|███████████████████████████████████████████████████████| 21/21 [02:03<00:00,  5.86s/it]\n",
      "  0%|                                                                                                                        | 0/21 [00:00<?, ?it/s]"
     ]
    },
    {
     "name": "stdout",
     "output_type": "stream",
     "text": [
      "Epoch 12 - MAP@k : 0.865795 - Loss 1.494583\n"
     ]
    },
    {
     "name": "stderr",
     "output_type": "stream",
     "text": [
      "Epoch 13 - MAP@k : 0.919476 - Learning Rate : 0.000087: 100%|███████████████████████████████████████████████████████| 21/21 [02:02<00:00,  5.83s/it]\n",
      "  0%|                                                                                                                        | 0/21 [00:00<?, ?it/s]"
     ]
    },
    {
     "name": "stdout",
     "output_type": "stream",
     "text": [
      "Epoch 13 - MAP@k : 0.894498 - Loss 1.275036\n"
     ]
    },
    {
     "name": "stderr",
     "output_type": "stream",
     "text": [
      "Epoch 14 - MAP@k : 0.919476 - Learning Rate : 0.000094: 100%|███████████████████████████████████████████████████████| 21/21 [02:03<00:00,  5.87s/it]\n",
      "  0%|                                                                                                                        | 0/21 [00:00<?, ?it/s]"
     ]
    },
    {
     "name": "stdout",
     "output_type": "stream",
     "text": [
      "Epoch 14 - MAP@k : 0.922151 - Loss 1.064271\n"
     ]
    },
    {
     "name": "stderr",
     "output_type": "stream",
     "text": [
      "Epoch 15 - MAP@k : 0.902622 - Learning Rate : 0.000100: 100%|███████████████████████████████████████████████████████| 21/21 [01:59<00:00,  5.71s/it]\n",
      "  0%|                                                                                                                        | 0/21 [00:00<?, ?it/s]"
     ]
    },
    {
     "name": "stdout",
     "output_type": "stream",
     "text": [
      "Epoch 15 - MAP@k : 0.939293 - Loss 0.888197\n"
     ]
    },
    {
     "name": "stderr",
     "output_type": "stream",
     "text": [
      "Epoch 16 - MAP@k : 0.958801 - Learning Rate : 0.000097: 100%|███████████████████████████████████████████████████████| 21/21 [02:04<00:00,  5.93s/it]\n",
      "  0%|                                                                                                                        | 0/21 [00:00<?, ?it/s]"
     ]
    },
    {
     "name": "stdout",
     "output_type": "stream",
     "text": [
      "Epoch 16 - MAP@k : 0.953637 - Loss 0.745621\n"
     ]
    },
    {
     "name": "stderr",
     "output_type": "stream",
     "text": [
      "Epoch 17 - MAP@k : 0.950375 - Learning Rate : 0.000094: 100%|███████████████████████████████████████████████████████| 21/21 [02:08<00:00,  6.10s/it]\n",
      "  0%|                                                                                                                        | 0/21 [00:00<?, ?it/s]"
     ]
    },
    {
     "name": "stdout",
     "output_type": "stream",
     "text": [
      "Epoch 17 - MAP@k : 0.963497 - Loss 0.601906\n"
     ]
    },
    {
     "name": "stderr",
     "output_type": "stream",
     "text": [
      "Epoch 18 - MAP@k : 0.971910 - Learning Rate : 0.000091: 100%|███████████████████████████████████████████████████████| 21/21 [02:08<00:00,  6.11s/it]\n",
      "  0%|                                                                                                                        | 0/21 [00:00<?, ?it/s]"
     ]
    },
    {
     "name": "stdout",
     "output_type": "stream",
     "text": [
      "Epoch 18 - MAP@k : 0.971976 - Loss 0.504163\n"
     ]
    },
    {
     "name": "stderr",
     "output_type": "stream",
     "text": [
      "Epoch 19 - MAP@k : 0.994382 - Learning Rate : 0.000088: 100%|███████████████████████████████████████████████████████| 21/21 [02:01<00:00,  5.80s/it]\n",
      "  0%|                                                                                                                        | 0/21 [00:00<?, ?it/s]"
     ]
    },
    {
     "name": "stdout",
     "output_type": "stream",
     "text": [
      "Epoch 19 - MAP@k : 0.981032 - Loss 0.423900\n"
     ]
    },
    {
     "name": "stderr",
     "output_type": "stream",
     "text": [
      "Epoch 20 - MAP@k : 0.986891 - Learning Rate : 0.000086: 100%|███████████████████████████████████████████████████████| 21/21 [02:06<00:00,  6.02s/it]\n",
      "  0%|                                                                                                                        | 0/21 [00:00<?, ?it/s]"
     ]
    },
    {
     "name": "stdout",
     "output_type": "stream",
     "text": [
      "Epoch 20 - MAP@k : 0.988215 - Loss 0.360728\n"
     ]
    },
    {
     "name": "stderr",
     "output_type": "stream",
     "text": [
      "Epoch 21 - MAP@k : 0.988764 - Learning Rate : 0.000083: 100%|███████████████████████████████████████████████████████| 21/21 [02:08<00:00,  6.11s/it]\n",
      "  0%|                                                                                                                        | 0/21 [00:00<?, ?it/s]"
     ]
    },
    {
     "name": "stdout",
     "output_type": "stream",
     "text": [
      "Epoch 21 - MAP@k : 0.990474 - Loss 0.301985\n"
     ]
    },
    {
     "name": "stderr",
     "output_type": "stream",
     "text": [
      "Epoch 22 - MAP@k : 0.988764 - Learning Rate : 0.000080: 100%|███████████████████████████████████████████████████████| 21/21 [02:04<00:00,  5.95s/it]\n",
      "  0%|                                                                                                                        | 0/21 [00:00<?, ?it/s]"
     ]
    },
    {
     "name": "stdout",
     "output_type": "stream",
     "text": [
      "Epoch 22 - MAP@k : 0.989898 - Loss 0.266454\n"
     ]
    },
    {
     "name": "stderr",
     "output_type": "stream",
     "text": [
      "Epoch 23 - MAP@k : 1.000000 - Learning Rate : 0.000077: 100%|███████████████████████████████████████████████████████| 21/21 [02:34<00:00,  7.37s/it]\n",
      "  0%|                                                                                                                        | 0/21 [00:00<?, ?it/s]"
     ]
    },
    {
     "name": "stdout",
     "output_type": "stream",
     "text": [
      "Epoch 23 - MAP@k : 0.993744 - Loss 0.228887\n"
     ]
    },
    {
     "name": "stderr",
     "output_type": "stream",
     "text": [
      "Epoch 24 - MAP@k : 0.991573 - Learning Rate : 0.000074: 100%|███████████████████████████████████████████████████████| 21/21 [02:12<00:00,  6.29s/it]\n",
      "  0%|                                                                                                                        | 0/21 [00:00<?, ?it/s]"
     ]
    },
    {
     "name": "stdout",
     "output_type": "stream",
     "text": [
      "Epoch 24 - MAP@k : 0.993398 - Loss 0.213041\n"
     ]
    },
    {
     "name": "stderr",
     "output_type": "stream",
     "text": [
      "Epoch 25 - MAP@k : 1.000000 - Learning Rate : 0.000071: 100%|███████████████████████████████████████████████████████| 21/21 [02:03<00:00,  5.90s/it]"
     ]
    },
    {
     "name": "stdout",
     "output_type": "stream",
     "text": [
      "Epoch 25 - MAP@k : 0.996032 - Loss 0.178607\n"
     ]
    },
    {
     "name": "stderr",
     "output_type": "stream",
     "text": [
      "\n"
     ]
    }
   ],
   "source": [
    "for epoch in range(25):\n",
    "    \n",
    "    data_loader = torch.utils.data.DataLoader(dataset, batch_size=batch_size, shuffle=True, num_workers=1)\n",
    "    pbar = tqdm.tqdm(data_loader)\n",
    "    \n",
    "    running_loss = 0.0\n",
    "    \n",
    "    for sample in pbar:\n",
    "        optimizer_model.zero_grad() \n",
    "        with autocast():\n",
    "            op = model_conv(sample['img'].to(device))\n",
    "            loss = cross_entropy(op, sample['id'].to(device))\n",
    "        scaler.scale(loss).backward()\n",
    "        scaler.step(optimizer_model)\n",
    "        scaler.update()\n",
    "        lr_scheduler.step()\n",
    "        running_loss += loss.item() * sample['img'].size(0)\n",
    "        top_k_precision = mapk(sample['id'], op.topk(5, dim=1).indices)\n",
    "        top_k_precisions.append(top_k_precision)\n",
    "        pbar.set_description('Epoch %d - MAP@k : %f - Learning Rate : %f' % (epoch+1, top_k_precision, lr_scheduler.get_last_lr()[0]))\n",
    "    epoch_loss = running_loss / len(dataset)\n",
    "    epoch_losses.append(epoch_loss)\n",
    "    print('Epoch %d - MAP@k : %f - Loss %f' % (epoch+1, np.mean(top_k_precisions[-num_epoch_steps:]), epoch_loss))"
   ]
  },
  {
   "cell_type": "code",
   "execution_count": 218,
   "metadata": {},
   "outputs": [
    {
     "data": {
      "text/plain": [
       "[<matplotlib.lines.Line2D at 0x7ff1d3c5dd30>]"
      ]
     },
     "execution_count": 218,
     "metadata": {},
     "output_type": "execute_result"
    },
    {
     "data": {
      "image/png": "[encoded data removed]",
      "text/plain": [
       "<Figure size 432x288 with 1 Axes>"
      ]
     },
     "metadata": {
      "needs_background": "light"
     },
     "output_type": "display_data"
    }
   ],
   "source": [
    "plt.plot(epoch_losses)"
   ]
  },
  {
   "cell_type": "code",
   "execution_count": 219,
   "metadata": {},
   "outputs": [
    {
     "data": {
      "text/plain": [
       "[<matplotlib.lines.Line2D at 0x7ff1d3bc1160>]"
      ]
     },
     "execution_count": 219,
     "metadata": {},
     "output_type": "execute_result"
    },
    {
     "data": {
      "image/png": "[encoded data removed]",
      "text/plain": [
       "<Figure size 432x288 with 1 Axes>"
      ]
     },
     "metadata": {
      "needs_background": "light"
     },
     "output_type": "display_data"
    }
   ],
   "source": [
    "plt.plot(top_k_precisions)"
   ]
  },
  {
   "cell_type": "code",
   "execution_count": 199,
   "metadata": {
    "colab": {
     "base_uri": "https://localhost:8080/"
    },
    "id": "Sw2hA1aQCQx3",
    "outputId": "f9f84986-1a75-4239-a6a1-80f1fa0d99b0",
    "tags": []
   },
   "outputs": [
    {
     "name": "stderr",
     "output_type": "stream",
     "text": [
      "Epoch 1 - MAP@k : 0.916105 - Learning Rate : 0.000068: 100%|████████████████████████████████████████████████████████| 21/21 [01:53<00:00,  5.39s/it]\n",
      "  0%|                                                                                                                        | 0/21 [00:00<?, ?it/s]"
     ]
    },
    {
     "name": "stdout",
     "output_type": "stream",
     "text": [
      "Epoch 1 - MAP@k : 0.915065 - Loss 0.942729\n"
     ]
    },
    {
     "name": "stderr",
     "output_type": "stream",
     "text": [
      "Epoch 2 - MAP@k : 0.944757 - Learning Rate : 0.000066: 100%|████████████████████████████████████████████████████████| 21/21 [01:53<00:00,  5.42s/it]\n",
      "  0%|                                                                                                                        | 0/21 [00:00<?, ?it/s]"
     ]
    },
    {
     "name": "stdout",
     "output_type": "stream",
     "text": [
      "Epoch 2 - MAP@k : 0.929432 - Loss 0.867848\n"
     ]
    },
    {
     "name": "stderr",
     "output_type": "stream",
     "text": [
      "Epoch 3 - MAP@k : 0.944195 - Learning Rate : 0.000063: 100%|████████████████████████████████████████████████████████| 21/21 [01:52<00:00,  5.35s/it]\n",
      "  0%|                                                                                                                        | 0/21 [00:00<?, ?it/s]"
     ]
    },
    {
     "name": "stdout",
     "output_type": "stream",
     "text": [
      "Epoch 3 - MAP@k : 0.937881 - Loss 0.772991\n"
     ]
    },
    {
     "name": "stderr",
     "output_type": "stream",
     "text": [
      "Epoch 4 - MAP@k : 0.944757 - Learning Rate : 0.000060: 100%|████████████████████████████████████████████████████████| 21/21 [01:54<00:00,  5.46s/it]\n",
      "  0%|                                                                                                                        | 0/21 [00:00<?, ?it/s]"
     ]
    },
    {
     "name": "stdout",
     "output_type": "stream",
     "text": [
      "Epoch 4 - MAP@k : 0.943779 - Loss 0.703741\n"
     ]
    },
    {
     "name": "stderr",
     "output_type": "stream",
     "text": [
      "Epoch 5 - MAP@k : 0.940075 - Learning Rate : 0.000057: 100%|████████████████████████████████████████████████████████| 21/21 [01:56<00:00,  5.54s/it]\n",
      "  0%|                                                                                                                        | 0/21 [00:00<?, ?it/s]"
     ]
    },
    {
     "name": "stdout",
     "output_type": "stream",
     "text": [
      "Epoch 5 - MAP@k : 0.954035 - Loss 0.640757\n"
     ]
    },
    {
     "name": "stderr",
     "output_type": "stream",
     "text": [
      "Epoch 6 - MAP@k : 0.988764 - Learning Rate : 0.000054: 100%|████████████████████████████████████████████████████████| 21/21 [01:54<00:00,  5.45s/it]\n",
      "  0%|                                                                                                                        | 0/21 [00:00<?, ?it/s]"
     ]
    },
    {
     "name": "stdout",
     "output_type": "stream",
     "text": [
      "Epoch 6 - MAP@k : 0.957507 - Loss 0.600407\n"
     ]
    },
    {
     "name": "stderr",
     "output_type": "stream",
     "text": [
      "Epoch 7 - MAP@k : 0.958801 - Learning Rate : 0.000051: 100%|████████████████████████████████████████████████████████| 21/21 [01:56<00:00,  5.55s/it]\n",
      "  0%|                                                                                                                        | 0/21 [00:00<?, ?it/s]"
     ]
    },
    {
     "name": "stdout",
     "output_type": "stream",
     "text": [
      "Epoch 7 - MAP@k : 0.968258 - Loss 0.516966\n"
     ]
    },
    {
     "name": "stderr",
     "output_type": "stream",
     "text": [
      "Epoch 8 - MAP@k : 0.981273 - Learning Rate : 0.000048: 100%|████████████████████████████████████████████████████████| 21/21 [01:52<00:00,  5.38s/it]\n",
      "  0%|                                                                                                                        | 0/21 [00:00<?, ?it/s]"
     ]
    },
    {
     "name": "stdout",
     "output_type": "stream",
     "text": [
      "Epoch 8 - MAP@k : 0.968702 - Loss 0.497706\n"
     ]
    },
    {
     "name": "stderr",
     "output_type": "stream",
     "text": [
      "Epoch 9 - MAP@k : 0.923221 - Learning Rate : 0.000046: 100%|████████████████████████████████████████████████████████| 21/21 [01:59<00:00,  5.70s/it]\n",
      "  0%|                                                                                                                        | 0/21 [00:00<?, ?it/s]"
     ]
    },
    {
     "name": "stdout",
     "output_type": "stream",
     "text": [
      "Epoch 9 - MAP@k : 0.969552 - Loss 0.460454\n"
     ]
    },
    {
     "name": "stderr",
     "output_type": "stream",
     "text": [
      "Epoch 10 - MAP@k : 0.983146 - Learning Rate : 0.000043: 100%|███████████████████████████████████████████████████████| 21/21 [01:52<00:00,  5.37s/it]\n",
      "  0%|                                                                                                                        | 0/21 [00:00<?, ?it/s]"
     ]
    },
    {
     "name": "stdout",
     "output_type": "stream",
     "text": [
      "Epoch 10 - MAP@k : 0.975177 - Loss 0.426574\n"
     ]
    },
    {
     "name": "stderr",
     "output_type": "stream",
     "text": [
      "Epoch 11 - MAP@k : 0.955056 - Learning Rate : 0.000040: 100%|███████████████████████████████████████████████████████| 21/21 [01:56<00:00,  5.56s/it]\n",
      "  0%|                                                                                                                        | 0/21 [00:00<?, ?it/s]"
     ]
    },
    {
     "name": "stdout",
     "output_type": "stream",
     "text": [
      "Epoch 11 - MAP@k : 0.975731 - Loss 0.391641\n"
     ]
    },
    {
     "name": "stderr",
     "output_type": "stream",
     "text": [
      "Epoch 12 - MAP@k : 0.955993 - Learning Rate : 0.000037: 100%|███████████████████████████████████████████████████████| 21/21 [01:53<00:00,  5.38s/it]\n",
      "  0%|                                                                                                                        | 0/21 [00:00<?, ?it/s]"
     ]
    },
    {
     "name": "stdout",
     "output_type": "stream",
     "text": [
      "Epoch 12 - MAP@k : 0.975236 - Loss 0.383967\n"
     ]
    },
    {
     "name": "stderr",
     "output_type": "stream",
     "text": [
      "Epoch 13 - MAP@k : 0.988764 - Learning Rate : 0.000034: 100%|███████████████████████████████████████████████████████| 21/21 [01:56<00:00,  5.55s/it]\n",
      "  0%|                                                                                                                        | 0/21 [00:00<?, ?it/s]"
     ]
    },
    {
     "name": "stdout",
     "output_type": "stream",
     "text": [
      "Epoch 13 - MAP@k : 0.980176 - Loss 0.356433\n"
     ]
    },
    {
     "name": "stderr",
     "output_type": "stream",
     "text": [
      "Epoch 14 - MAP@k : 0.971910 - Learning Rate : 0.000031: 100%|███████████████████████████████████████████████████████| 21/21 [01:56<00:00,  5.54s/it]\n",
      "  0%|                                                                                                                        | 0/21 [00:00<?, ?it/s]"
     ]
    },
    {
     "name": "stdout",
     "output_type": "stream",
     "text": [
      "Epoch 14 - MAP@k : 0.981140 - Loss 0.332896\n"
     ]
    },
    {
     "name": "stderr",
     "output_type": "stream",
     "text": [
      "Epoch 15 - MAP@k : 0.988764 - Learning Rate : 0.000028: 100%|███████████████████████████████████████████████████████| 21/21 [02:56<00:00,  8.39s/it]\n",
      "  0%|                                                                                                                        | 0/21 [00:00<?, ?it/s]"
     ]
    },
    {
     "name": "stdout",
     "output_type": "stream",
     "text": [
      "Epoch 15 - MAP@k : 0.981279 - Loss 0.324188\n"
     ]
    },
    {
     "name": "stderr",
     "output_type": "stream",
     "text": [
      "Epoch 16 - MAP@k : 0.960674 - Learning Rate : 0.000026: 100%|███████████████████████████████████████████████████████| 21/21 [02:56<00:00,  8.40s/it]\n",
      "  0%|                                                                                                                        | 0/21 [00:00<?, ?it/s]"
     ]
    },
    {
     "name": "stdout",
     "output_type": "stream",
     "text": [
      "Epoch 16 - MAP@k : 0.983866 - Loss 0.303510\n"
     ]
    },
    {
     "name": "stderr",
     "output_type": "stream",
     "text": [
      "Epoch 17 - MAP@k : 0.971910 - Learning Rate : 0.000023: 100%|███████████████████████████████████████████████████████| 21/21 [02:03<00:00,  5.90s/it]\n",
      "  0%|                                                                                                                        | 0/21 [00:00<?, ?it/s]"
     ]
    },
    {
     "name": "stdout",
     "output_type": "stream",
     "text": [
      "Epoch 17 - MAP@k : 0.984383 - Loss 0.292488\n"
     ]
    },
    {
     "name": "stderr",
     "output_type": "stream",
     "text": [
      "Epoch 18 - MAP@k : 0.953184 - Learning Rate : 0.000020: 100%|███████████████████████████████████████████████████████| 21/21 [01:57<00:00,  5.62s/it]\n",
      "  0%|                                                                                                                        | 0/21 [00:00<?, ?it/s]"
     ]
    },
    {
     "name": "stdout",
     "output_type": "stream",
     "text": [
      "Epoch 18 - MAP@k : 0.983305 - Loss 0.284562\n"
     ]
    },
    {
     "name": "stderr",
     "output_type": "stream",
     "text": [
      "Epoch 19 - MAP@k : 1.000000 - Learning Rate : 0.000017: 100%|███████████████████████████████████████████████████████| 21/21 [01:54<00:00,  5.44s/it]\n",
      "  0%|                                                                                                                        | 0/21 [00:00<?, ?it/s]"
     ]
    },
    {
     "name": "stdout",
     "output_type": "stream",
     "text": [
      "Epoch 19 - MAP@k : 0.987853 - Loss 0.283152\n"
     ]
    },
    {
     "name": "stderr",
     "output_type": "stream",
     "text": [
      "Epoch 20 - MAP@k : 0.992509 - Learning Rate : 0.000014: 100%|███████████████████████████████████████████████████████| 21/21 [02:00<00:00,  5.73s/it]\n",
      "  0%|                                                                                                                        | 0/21 [00:00<?, ?it/s]"
     ]
    },
    {
     "name": "stdout",
     "output_type": "stream",
     "text": [
      "Epoch 20 - MAP@k : 0.988080 - Loss 0.259183\n"
     ]
    },
    {
     "name": "stderr",
     "output_type": "stream",
     "text": [
      "Epoch 21 - MAP@k : 0.981273 - Learning Rate : 0.000011: 100%|███████████████████████████████████████████████████████| 21/21 [02:02<00:00,  5.84s/it]\n",
      "  0%|                                                                                                                        | 0/21 [00:00<?, ?it/s]"
     ]
    },
    {
     "name": "stdout",
     "output_type": "stream",
     "text": [
      "Epoch 21 - MAP@k : 0.986490 - Loss 0.261954\n"
     ]
    },
    {
     "name": "stderr",
     "output_type": "stream",
     "text": [
      "Epoch 22 - MAP@k : 0.977528 - Learning Rate : 0.000008: 100%|███████████████████████████████████████████████████████| 21/21 [02:07<00:00,  6.08s/it]\n",
      "  0%|                                                                                                                        | 0/21 [00:00<?, ?it/s]"
     ]
    },
    {
     "name": "stdout",
     "output_type": "stream",
     "text": [
      "Epoch 22 - MAP@k : 0.988141 - Loss 0.257882\n"
     ]
    },
    {
     "name": "stderr",
     "output_type": "stream",
     "text": [
      "Epoch 23 - MAP@k : 0.994382 - Learning Rate : 0.000006: 100%|███████████████████████████████████████████████████████| 21/21 [02:10<00:00,  6.23s/it]\n",
      "  0%|                                                                                                                        | 0/21 [00:00<?, ?it/s]"
     ]
    },
    {
     "name": "stdout",
     "output_type": "stream",
     "text": [
      "Epoch 23 - MAP@k : 0.986631 - Loss 0.254364\n"
     ]
    },
    {
     "name": "stderr",
     "output_type": "stream",
     "text": [
      "Epoch 24 - MAP@k : 0.977528 - Learning Rate : 0.000003: 100%|███████████████████████████████████████████████████████| 21/21 [02:06<00:00,  6.03s/it]\n",
      "  0%|                                                                                                                        | 0/21 [00:00<?, ?it/s]"
     ]
    },
    {
     "name": "stdout",
     "output_type": "stream",
     "text": [
      "Epoch 24 - MAP@k : 0.986653 - Loss 0.254643\n"
     ]
    },
    {
     "name": "stderr",
     "output_type": "stream",
     "text": [
      "Epoch 25 - MAP@k : 0.988764 - Learning Rate : -0.000000: 100%|██████████████████████████████████████████████████████| 21/21 [01:57<00:00,  5.59s/it]"
     ]
    },
    {
     "name": "stdout",
     "output_type": "stream",
     "text": [
      "Epoch 25 - MAP@k : 0.988738 - Loss 0.233942\n"
     ]
    },
    {
     "name": "stderr",
     "output_type": "stream",
     "text": [
      "\n"
     ]
    }
   ],
   "source": [
    "for epoch in range(25):\n",
    "    \n",
    "    data_loader = torch.utils.data.DataLoader(dataset, batch_size=batch_size, shuffle=True, num_workers=1)\n",
    "    pbar = tqdm.tqdm(data_loader)\n",
    "    \n",
    "    running_loss = 0.0\n",
    "    \n",
    "    for sample in pbar:\n",
    "        optimizer_model.zero_grad() \n",
    "        with autocast():\n",
    "            op = model_conv(sample['img'].to(device))\n",
    "            loss = cross_entropy(op, sample['id'].to(device))\n",
    "        scaler.scale(loss).backward()\n",
    "        scaler.step(optimizer_model)\n",
    "        scaler.update()\n",
    "        lr_scheduler.step()\n",
    "        running_loss += loss.item() * sample['img'].size(0)\n",
    "        top_k_precision = mapk(sample['id'], op.topk(5, dim=1).indices)\n",
    "        top_k_precisions.append(top_k_precision)\n",
    "        pbar.set_description('Epoch %d - MAP@k : %f - Learning Rate : %f' % (epoch+1, top_k_precision, lr_scheduler.get_last_lr()[0]))\n",
    "    epoch_loss = running_loss / len(dataset)\n",
    "    epoch_losses.append(epoch_loss)\n",
    "    print('Epoch %d - MAP@k : %f - Loss %f' % (epoch+1, np.mean(top_k_precisions[-num_epoch_steps:]), epoch_loss))"
   ]
  },
  {
   "cell_type": "code",
   "execution_count": 200,
   "metadata": {},
   "outputs": [
    {
     "data": {
      "text/plain": [
       "[<matplotlib.lines.Line2D at 0x7ff1d3d9a820>]"
      ]
     },
     "execution_count": 200,
     "metadata": {},
     "output_type": "execute_result"
    },
    {
     "data": {
      "image/png": "[encoded data removed]",
      "text/plain": [
       "<Figure size 432x288 with 1 Axes>"
      ]
     },
     "metadata": {
      "needs_background": "light"
     },
     "output_type": "display_data"
    }
   ],
   "source": [
    "plt.plot(epoch_losses)"
   ]
  },
  {
   "cell_type": "code",
   "execution_count": 201,
   "metadata": {},
   "outputs": [
    {
     "data": {
      "text/plain": [
       "[<matplotlib.lines.Line2D at 0x7ff1d3ced8e0>]"
      ]
     },
     "execution_count": 201,
     "metadata": {},
     "output_type": "execute_result"
    },
    {
     "data": {
      "image/png": "[encoded data removed]",
      "text/plain": [
       "<Figure size 432x288 with 1 Axes>"
      ]
     },
     "metadata": {
      "needs_background": "light"
     },
     "output_type": "display_data"
    }
   ],
   "source": [
    "plt.plot(top_k_precisions)"
   ]
  },
  {
   "cell_type": "markdown",
   "metadata": {},
   "source": [
    "### Validation on extra images"
   ]
  },
  {
   "cell_type": "code",
   "execution_count": 202,
   "metadata": {},
   "outputs": [
    {
     "data": {
      "text/plain": [
       "(10658, 2)"
      ]
     },
     "execution_count": 202,
     "metadata": {},
     "output_type": "execute_result"
    }
   ],
   "source": [
    "extra.shape"
   ]
  },
  {
   "cell_type": "code",
   "execution_count": 203,
   "metadata": {},
   "outputs": [
    {
     "data": {
      "text/plain": [
       "(10154, 2)"
      ]
     },
     "execution_count": 203,
     "metadata": {},
     "output_type": "execute_result"
    }
   ],
   "source": [
    "extra[~extra.turtle_id.isin(unknown_train_ids)].shape"
   ]
  },
  {
   "cell_type": "code",
   "execution_count": 220,
   "metadata": {
    "id": "Y0tRzpnKo27I"
   },
   "outputs": [],
   "source": [
    "extra_dataset = TurtleDataSet(IMAGE_DIR, extra[~extra.turtle_id.isin(unknown_train_ids)].reset_index(),\n",
    "                              turtle_ids, \n",
    "                              transform=img_transform, \n",
    "                              include_orientation=False)"
   ]
  },
  {
   "cell_type": "code",
   "execution_count": 221,
   "metadata": {},
   "outputs": [],
   "source": [
    "model_conv.eval();"
   ]
  },
  {
   "cell_type": "code",
   "execution_count": 222,
   "metadata": {},
   "outputs": [
    {
     "name": "stderr",
     "output_type": "stream",
     "text": [
      "100%|███████████████████████████████████████████████████████████████████████████████████████████████████████████████| 80/80 [13:32<00:00, 10.16s/it]\n"
     ]
    }
   ],
   "source": [
    "data_loader = torch.utils.data.DataLoader(extra_dataset, batch_size=128, shuffle=False, num_workers=1)\n",
    "pbar = tqdm.tqdm(data_loader)\n",
    "model_conv.eval()\n",
    "preds = []\n",
    "image_ids = []\n",
    "val_precisions = []\n",
    "with torch.no_grad():\n",
    "    for sample in pbar:\n",
    "        out = model_conv(sample['img'].to(device))\n",
    "        # break\n",
    "        top_k_precision = mapk(sample['id'], out.topk(5, dim=1).indices)\n",
    "        val_precisions.append(top_k_precision)\n",
    "        pred = out.topk(5, dim=1).indices.cpu().numpy()\n",
    "        preds.append(pred)\n"
   ]
  },
  {
   "cell_type": "code",
   "execution_count": 223,
   "metadata": {},
   "outputs": [
    {
     "data": {
      "text/plain": [
       "0.6856975446428573"
      ]
     },
     "execution_count": 223,
     "metadata": {},
     "output_type": "execute_result"
    }
   ],
   "source": [
    "np.mean(val_precisions)"
   ]
  },
  {
   "cell_type": "code",
   "execution_count": 224,
   "metadata": {},
   "outputs": [],
   "source": [
    "reserved_mem = torch.cuda.memory_reserved(0)\n",
    "allocated_mem = torch.cuda.memory_allocated(0)\n",
    "\n",
    "mem_use = allocated_mem/reserved_mem"
   ]
  },
  {
   "cell_type": "code",
   "execution_count": 225,
   "metadata": {},
   "outputs": [
    {
     "data": {
      "text/plain": [
       "0.08453042223251431"
      ]
     },
     "execution_count": 225,
     "metadata": {},
     "output_type": "execute_result"
    }
   ],
   "source": [
    "mem_use"
   ]
  },
  {
   "cell_type": "markdown",
   "metadata": {},
   "source": [
    "### Generate Predictions for Submission"
   ]
  },
  {
   "cell_type": "code",
   "execution_count": 226,
   "metadata": {},
   "outputs": [],
   "source": [
    "test['turtle_id'] = ''"
   ]
  },
  {
   "cell_type": "code",
   "execution_count": 227,
   "metadata": {},
   "outputs": [],
   "source": [
    "model_conv.eval();"
   ]
  },
  {
   "cell_type": "code",
   "execution_count": 228,
   "metadata": {},
   "outputs": [],
   "source": [
    "test_dataset = TurtleDataSet(IMAGE_DIR, test, turtle_ids, transform=img_transform, include_orientation=False)"
   ]
  },
  {
   "cell_type": "code",
   "execution_count": 229,
   "metadata": {},
   "outputs": [
    {
     "data": {
      "text/plain": [
       "490"
      ]
     },
     "execution_count": 229,
     "metadata": {},
     "output_type": "execute_result"
    }
   ],
   "source": [
    "len(test_dataset)"
   ]
  },
  {
   "cell_type": "code",
   "execution_count": 230,
   "metadata": {},
   "outputs": [
    {
     "name": "stderr",
     "output_type": "stream",
     "text": [
      "100%|█████████████████████████████████████████████████████████████████████████████████████████████████████████████████| 1/1 [00:29<00:00, 29.16s/it]\n"
     ]
    }
   ],
   "source": [
    "data_loader = torch.utils.data.DataLoader(test_dataset, batch_size=490, shuffle=False, num_workers=1)\n",
    "\n",
    "# data_loader = torch.utils.data.DataLoader(test_dataset, batch_size=8, shuffle=False, num_workers=1)\n",
    "\n",
    "preds = []\n",
    "image_ids = []\n",
    "pbar = tqdm.tqdm(data_loader)\n",
    "model_conv.eval()\n",
    "with torch.no_grad():\n",
    "    for sample in pbar:\n",
    "        image_ids.extend(sample['image_id'])\n",
    "        test_emb = model_conv(sample['img'].to(device))\n",
    "        pred = test_emb.topk(5, dim=1).indices.cpu().numpy()\n",
    "        preds.append(pred)\n",
    "        # break\n"
   ]
  },
  {
   "cell_type": "code",
   "execution_count": 231,
   "metadata": {},
   "outputs": [
    {
     "data": {
      "text/plain": [
       "torch.Size([490, 101])"
      ]
     },
     "execution_count": 231,
     "metadata": {},
     "output_type": "execute_result"
    }
   ],
   "source": [
    "test_emb.shape"
   ]
  },
  {
   "cell_type": "code",
   "execution_count": 232,
   "metadata": {},
   "outputs": [],
   "source": [
    "image_ids = list(map(lambda x:x.upper(), image_ids))"
   ]
  },
  {
   "cell_type": "code",
   "execution_count": 233,
   "metadata": {},
   "outputs": [],
   "source": [
    "preds = np.concatenate(preds)"
   ]
  },
  {
   "cell_type": "code",
   "execution_count": 234,
   "metadata": {},
   "outputs": [
    {
     "data": {
      "text/plain": [
       "array([53, 15, 12,  1,  8])"
      ]
     },
     "execution_count": 234,
     "metadata": {},
     "output_type": "execute_result"
    }
   ],
   "source": [
    "sum(preds==100)"
   ]
  },
  {
   "cell_type": "code",
   "execution_count": 55,
   "metadata": {},
   "outputs": [
    {
     "data": {
      "text/plain": [
       "array([65, 31, 29, 24, 12])"
      ]
     },
     "execution_count": 55,
     "metadata": {},
     "output_type": "execute_result"
    }
   ],
   "source": [
    "sum(preds==100)"
   ]
  },
  {
   "cell_type": "code",
   "execution_count": 235,
   "metadata": {},
   "outputs": [],
   "source": [
    "preds = mapper(preds)\n",
    "\n",
    "predictions_df = pd.DataFrame({'image_id': image_ids,\n",
    "                               'prediction1': preds[:, 0],\n",
    "                               'prediction2': preds[:, 1],\n",
    "                               'prediction3': preds[:, 2],\n",
    "                               'prediction4': preds[:, 3],\n",
    "                               'prediction5': preds[:, 4]})"
   ]
  },
  {
   "cell_type": "code",
   "execution_count": 236,
   "metadata": {},
   "outputs": [],
   "source": [
    "predictions_df.to_csv(os.path.join('predictions', dt.datetime.now().strftime(\"%Y-%m-%d-%H-%M.csv\")),\n",
    "                      index=False)"
   ]
  },
  {
   "cell_type": "code",
   "execution_count": 328,
   "metadata": {},
   "outputs": [
    {
     "data": {
      "text/plain": [
       "490"
      ]
     },
     "execution_count": 328,
     "metadata": {},
     "output_type": "execute_result"
    }
   ],
   "source": [
    "len(image_ids)"
   ]
  },
  {
   "cell_type": "markdown",
   "metadata": {},
   "source": [
    "## As Margin Maximization"
   ]
  },
  {
   "cell_type": "markdown",
   "metadata": {},
   "source": [
    "### Dataset for Embedding Loss"
   ]
  },
  {
   "cell_type": "code",
   "execution_count": 237,
   "metadata": {
    "id": "bc2qIh1fVq-i"
   },
   "outputs": [],
   "source": [
    "# Dataset to generate triplets (anchor, positive, negative) for training\n",
    "class EmbeddingDataset(Dataset):\n",
    "\n",
    "    def __init__(self, root_dir, labels_df, num_samples, easy_mode=False, transform=None):\n",
    "\n",
    "        self.root_dir = root_dir\n",
    "        self.df = labels_df\n",
    "        self.num_samples = num_samples\n",
    "        self.samples = self.generate_samples(self.df, self.num_samples, easy_mode)\n",
    "        self.easy_mode = easy_mode\n",
    "        self.transform = transform\n",
    "\n",
    "\n",
    "    @staticmethod\n",
    "    def generate_samples(df, num_samples, easy_mode):\n",
    "\n",
    "        def make_dictionary_for_turtle_classes(df, easy_mode):\n",
    "            \n",
    "            turtle_classes = {}\n",
    "            if easy_mode:\n",
    "                orientations = df['image_location'].unique().tolist()\n",
    "\n",
    "                for turtle_id in df['turtle_id'].unique():\n",
    "                    turtle_classes[turtle_id] = {}\n",
    "                    for orientation in orientations:\n",
    "                      turtle_image_ids = df[(df['turtle_id']==turtle_id) & (df['image_location']==orientation)]['image_id'].tolist()\n",
    "                      turtle_classes[turtle_id][orientation]=turtle_image_ids\n",
    "            else:\n",
    "              for turtle_id in df['turtle_id'].unique():\n",
    "                turtle_image_ids = df[df['turtle_id']==turtle_id]['image_id'].tolist()\n",
    "                turtle_classes[turtle_id]=turtle_image_ids\n",
    "            return turtle_classes\n",
    "\n",
    "        samples = []\n",
    "        classes = df['turtle_id'].unique()\n",
    "        turtle_classes = make_dictionary_for_turtle_classes(df, easy_mode)\n",
    "\n",
    "        for _ in range(num_samples):\n",
    "\n",
    "            '''\n",
    "              - randomly choose anchor, positive and negative images for triplet loss\n",
    "              - anchor and positive images in pos_class\n",
    "              - negative image in neg_class\n",
    "              - at least, two images needed for anchor and positive images in pos_class\n",
    "              - negative image should have different class as anchor and positive images by definition\n",
    "            '''\n",
    "            is_positive_sample = random.choice([True, False])\n",
    "            \n",
    "            # print(turtle_classes)\n",
    "            if is_positive_sample:\n",
    "                pos_class = turtle_classes[np.random.choice(classes)]\n",
    "                if easy_mode:\n",
    "                    # Randomly choose an orientation\n",
    "                    orientations = list(pos_class.keys())\n",
    "                    # We want to train on turtles which have at least been photographed from orientations\n",
    "                    while len(orientations) < 2:\n",
    "                        pos_class = turtle_classes[np.random.choice(classes)]\n",
    "                        orientations = list(pos_class.keys())\n",
    "                    \n",
    "                    orientation = random.choice(orientations)\n",
    "                    while len(pos_class[orientation])<2:\n",
    "                        orientation = random.choice(orientations)\n",
    "                    image_ids = np.random.choice(pos_class[orientation], 2, replace=False)\n",
    "                else:\n",
    "                    # print(pos_class)\n",
    "                    while len(pos_class)<2:\n",
    "                        pos_class = turtle_classes[np.random.choice(classes)]\n",
    "                    image_ids = np.random.choice(pos_class, 2, replace=False)\n",
    "                sample = (image_ids[0], image_ids[1], 1)\n",
    "            else:\n",
    "                pos_class = turtle_classes[np.random.choice(classes)]\n",
    "                neg_class = turtle_classes[np.random.choice(classes)]\n",
    "                \n",
    "                if easy_mode:\n",
    "                    # Randomly choose an orientation\n",
    "                    orientation = random.choice(list(pos_class.keys()))\n",
    "                    pos_id = np.random.choice(pos_class[orientation], 1, replace=False)\n",
    "                    \n",
    "                    # REsample a negative class if the same orientation is not available\n",
    "                    while orientation not in neg_class.keys():\n",
    "                        neg_class = np.random.choice(classes)\n",
    "                        \n",
    "                    neg_id = np.random.choice(neg_class[orientation], 1, replace=False)\n",
    "                    \n",
    "                else:\n",
    "                    \n",
    "                    pos_id = np.random.choice(pos_class, 1, replace=False)\n",
    "                    neg_id = np.random.choice(neg_class, 1, replace=False)\n",
    "                    \n",
    "                sample = (pos_id[0], neg_id[0], -1)\n",
    "            \n",
    "            \n",
    "\n",
    "            samples.append(sample)\n",
    "                \n",
    "\n",
    "        return samples\n",
    "\n",
    "    def __getitem__(self, idx):\n",
    "        id1, id2, y = self.samples[idx]\n",
    "\n",
    "        img1 = os.path.join(self.root_dir, id1 +'.JPG')\n",
    "        img2 = os.path.join(self.root_dir, id2 +'.JPG')\n",
    "\n",
    "        img1 = Image.open(img1)\n",
    "        img2 = Image.open(img2)\n",
    "\n",
    "        if self.transform:\n",
    "            img1 = self.transform(img1)\n",
    "            img2 = self.transform(img2)\n",
    "\n",
    "        return img1, img2, y\n",
    "\n",
    "    def __len__(self):\n",
    "        return self.num_samples"
   ]
  },
  {
   "cell_type": "code",
   "execution_count": 238,
   "metadata": {
    "id": "JWb22YXTyKIt"
   },
   "outputs": [],
   "source": [
    "# Since this model was pretrained above\n",
    "# We want to freeze all weights\n",
    "for param in model_conv.parameters():\n",
    "    param.requires_grad = False"
   ]
  },
  {
   "cell_type": "code",
   "execution_count": 239,
   "metadata": {},
   "outputs": [
    {
     "data": {
      "text/plain": [
       "Sequential(\n",
       "  (0): Dropout(p=0.3, inplace=True)\n",
       "  (1): Linear(in_features=1408, out_features=101, bias=True)\n",
       "  (2): ReLU()\n",
       ")"
      ]
     },
     "execution_count": 239,
     "metadata": {},
     "output_type": "execute_result"
    }
   ],
   "source": [
    "model_conv.classifier"
   ]
  },
  {
   "cell_type": "code",
   "execution_count": 313,
   "metadata": {
    "id": "JWb22YXTyKIt"
   },
   "outputs": [],
   "source": [
    "# Add a few new layers to replace the old classifier\n",
    "model_conv.classifier = nn.Sequential(nn.Linear(num_ftrs, 128), nn.ReLU(), nn.Linear(128, 64), nn.ReLU())\n",
    "# model_conv.classifier[6] = nn.Linear(num_ftrs,100)"
   ]
  },
  {
   "cell_type": "code",
   "execution_count": 314,
   "metadata": {},
   "outputs": [],
   "source": [
    "\n",
    "for param in model_conv.classifier.parameters():\n",
    "    param.requires_grad = True"
   ]
  },
  {
   "cell_type": "markdown",
   "metadata": {},
   "source": [
    "### Cosine Embedding Loss"
   ]
  },
  {
   "cell_type": "code",
   "execution_count": 315,
   "metadata": {},
   "outputs": [],
   "source": [
    "cosine_loss = nn.CosineEmbeddingLoss(margin=0.5)"
   ]
  },
  {
   "cell_type": "code",
   "execution_count": 316,
   "metadata": {},
   "outputs": [],
   "source": [
    "model_conv.to(device)\n",
    "model_conv.train();"
   ]
  },
  {
   "cell_type": "code",
   "execution_count": 317,
   "metadata": {},
   "outputs": [],
   "source": [
    "num_training_samples = 4096\n",
    "batch_size=128"
   ]
  },
  {
   "cell_type": "code",
   "execution_count": 246,
   "metadata": {},
   "outputs": [],
   "source": [
    "scaler = GradScaler()\n",
    "\n",
    "optimizer_model = optim.SGD(\n",
    "    params=filter(lambda p: p.requires_grad, model_conv.parameters()),\n",
    "    lr=0.0001,\n",
    "    momentum=0.0,\n",
    "    dampening=0,\n",
    "    nesterov=False)\n",
    "\n",
    "lr_scheduler = torch.optim.lr_scheduler.CyclicLR(optimizer_model, \n",
    "                                                 base_lr=0.00004,\n",
    "                                                 max_lr=0.002, \n",
    "                                                 step_size_up=32, \n",
    "                                                 step_size_down=64)"
   ]
  },
  {
   "cell_type": "code",
   "execution_count": 247,
   "metadata": {},
   "outputs": [],
   "source": [
    "scaler = GradScaler()\n",
    "\n",
    "optimizer_model = optim.AdamW(filter(lambda p: p.requires_grad, model_conv.parameters()),\n",
    "                             lr=0.001, weight_decay=0.001)\n",
    "\n",
    "lr_scheduler = torch.optim.lr_scheduler.OneCycleLR(optimizer_model,\n",
    "                                                   max_lr=0.001,\n",
    "                                                   anneal_strategy='linear',\n",
    "                                                   epochs=20,\n",
    "                                                   steps_per_epoch=int(num_training_samples/batch_size),\n",
    "                                                   three_phase=True\n",
    "                                                   \n",
    "                                                  )"
   ]
  },
  {
   "cell_type": "code",
   "execution_count": 248,
   "metadata": {
    "colab": {
     "base_uri": "https://localhost:8080/"
    },
    "id": "Sw2hA1aQCQx3",
    "outputId": "f9f84986-1a75-4239-a6a1-80f1fa0d99b0",
    "tags": []
   },
   "outputs": [],
   "source": [
    "epoch_losses = []"
   ]
  },
  {
   "cell_type": "markdown",
   "metadata": {},
   "source": [
    "#### Easy Training"
   ]
  },
  {
   "cell_type": "code",
   "execution_count": 249,
   "metadata": {
    "colab": {
     "base_uri": "https://localhost:8080/"
    },
    "id": "Sw2hA1aQCQx3",
    "outputId": "f9f84986-1a75-4239-a6a1-80f1fa0d99b0",
    "tags": []
   },
   "outputs": [
    {
     "name": "stderr",
     "output_type": "stream",
     "text": [
      "Epoch 1 - Loss : 0.116615 - Learning Rate : 0.000201: 100%|███████████████████████████████████████████████████████████████| 32/32 [06:32<00:00, 12.26s/it]\n"
     ]
    },
    {
     "name": "stdout",
     "output_type": "stream",
     "text": [
      "Epoch 1 - Loss 0.137996\n"
     ]
    },
    {
     "name": "stderr",
     "output_type": "stream",
     "text": [
      "Epoch 2 - Loss : 0.088539 - Learning Rate : 0.000362: 100%|███████████████████████████████████████████████████████████████| 32/32 [05:59<00:00, 11.22s/it]\n"
     ]
    },
    {
     "name": "stdout",
     "output_type": "stream",
     "text": [
      "Epoch 2 - Loss 0.093199\n"
     ]
    },
    {
     "name": "stderr",
     "output_type": "stream",
     "text": [
      "Epoch 3 - Loss : 0.068488 - Learning Rate : 0.000523: 100%|███████████████████████████████████████████████████████████████| 32/32 [05:38<00:00, 10.59s/it]\n"
     ]
    },
    {
     "name": "stdout",
     "output_type": "stream",
     "text": [
      "Epoch 3 - Loss 0.071473\n"
     ]
    },
    {
     "name": "stderr",
     "output_type": "stream",
     "text": [
      "Epoch 4 - Loss : 0.053587 - Learning Rate : 0.000683: 100%|███████████████████████████████████████████████████████████████| 32/32 [05:53<00:00, 11.05s/it]\n"
     ]
    },
    {
     "name": "stdout",
     "output_type": "stream",
     "text": [
      "Epoch 4 - Loss 0.061199\n"
     ]
    },
    {
     "name": "stderr",
     "output_type": "stream",
     "text": [
      "Epoch 5 - Loss : 0.052847 - Learning Rate : 0.000844: 100%|███████████████████████████████████████████████████████████████| 32/32 [05:51<00:00, 10.99s/it]\n"
     ]
    },
    {
     "name": "stdout",
     "output_type": "stream",
     "text": [
      "Epoch 5 - Loss 0.050993\n"
     ]
    },
    {
     "name": "stderr",
     "output_type": "stream",
     "text": [
      "Epoch 6 - Loss : 0.047547 - Learning Rate : 0.000995: 100%|███████████████████████████████████████████████████████████████| 32/32 [05:56<00:00, 11.13s/it]\n"
     ]
    },
    {
     "name": "stdout",
     "output_type": "stream",
     "text": [
      "Epoch 6 - Loss 0.045662\n"
     ]
    },
    {
     "name": "stderr",
     "output_type": "stream",
     "text": [
      "Epoch 7 - Loss : 0.032374 - Learning Rate : 0.000834: 100%|███████████████████████████████████████████████████████████████| 32/32 [05:51<00:00, 11.00s/it]\n"
     ]
    },
    {
     "name": "stdout",
     "output_type": "stream",
     "text": [
      "Epoch 7 - Loss 0.037748\n"
     ]
    },
    {
     "name": "stderr",
     "output_type": "stream",
     "text": [
      "Epoch 8 - Loss : 0.028742 - Learning Rate : 0.000673: 100%|███████████████████████████████████████████████████████████████| 32/32 [05:55<00:00, 11.12s/it]\n"
     ]
    },
    {
     "name": "stdout",
     "output_type": "stream",
     "text": [
      "Epoch 8 - Loss 0.035424\n"
     ]
    },
    {
     "name": "stderr",
     "output_type": "stream",
     "text": [
      "Epoch 9 - Loss : 0.038982 - Learning Rate : 0.000512: 100%|███████████████████████████████████████████████████████████████| 32/32 [05:42<00:00, 10.70s/it]\n"
     ]
    },
    {
     "name": "stdout",
     "output_type": "stream",
     "text": [
      "Epoch 9 - Loss 0.035489\n"
     ]
    },
    {
     "name": "stderr",
     "output_type": "stream",
     "text": [
      "Epoch 10 - Loss : 0.025564 - Learning Rate : 0.000352: 100%|██████████████████████████████████████████████████████████████| 32/32 [05:50<00:00, 10.96s/it]"
     ]
    },
    {
     "name": "stdout",
     "output_type": "stream",
     "text": [
      "Epoch 10 - Loss 0.029037\n"
     ]
    },
    {
     "name": "stderr",
     "output_type": "stream",
     "text": [
      "\n"
     ]
    }
   ],
   "source": [
    "for epoch in range(10):\n",
    "    dataset = EmbeddingDataset(IMAGE_DIR, train, num_training_samples, transform=img_transform, easy_mode=True)\n",
    "    data_loader = torch.utils.data.DataLoader(dataset, batch_size=batch_size, shuffle=True, num_workers=1)\n",
    "    pbar = tqdm.tqdm(data_loader)\n",
    "    \n",
    "    running_loss = 0.0\n",
    "    \n",
    "    for sample in pbar:\n",
    "        img1, img2, y =  sample\n",
    "        optimizer_model.zero_grad() \n",
    "        with autocast():\n",
    "            op1 = model_conv(img1.to(device))\n",
    "            op2 = model_conv(img2.to(device))\n",
    "            loss = cosine_loss(op1, op2, y.to(device))\n",
    "            # loss = cross_entropy(op, sample['id'].to(device))\n",
    "        scaler.scale(loss).backward()\n",
    "        scaler.step(optimizer_model)\n",
    "        scaler.update()\n",
    "        lr_scheduler.step()\n",
    "        running_loss += loss.item() * img1.size(0)\n",
    "        pbar.set_description('Epoch %d - Loss : %f - Learning Rate : %f' % (epoch+1, loss.item(), lr_scheduler.get_last_lr()[0]))\n",
    "    epoch_loss = running_loss / len(dataset)\n",
    "    epoch_losses.append(epoch_loss)\n",
    "    print('Epoch %d - Loss %f' % (epoch+1, epoch_loss))"
   ]
  },
  {
   "cell_type": "code",
   "execution_count": 128,
   "metadata": {},
   "outputs": [
    {
     "data": {
      "text/plain": [
       "0.15380670360755175"
      ]
     },
     "execution_count": 128,
     "metadata": {},
     "output_type": "execute_result"
    }
   ],
   "source": [
    "np.mean(epoch_losses)"
   ]
  },
  {
   "cell_type": "code",
   "execution_count": 250,
   "metadata": {},
   "outputs": [
    {
     "data": {
      "text/plain": [
       "0.059822056005941704"
      ]
     },
     "execution_count": 250,
     "metadata": {},
     "output_type": "execute_result"
    }
   ],
   "source": [
    "np.mean(epoch_losses)"
   ]
  },
  {
   "cell_type": "code",
   "execution_count": 251,
   "metadata": {},
   "outputs": [
    {
     "data": {
      "text/plain": [
       "[<matplotlib.lines.Line2D at 0x7ff1d3b521c0>]"
      ]
     },
     "execution_count": 251,
     "metadata": {},
     "output_type": "execute_result"
    },
    {
     "data": {
      "image/png": "[encoded data removed]",
      "text/plain": [
       "<Figure size 432x288 with 1 Axes>"
      ]
     },
     "metadata": {
      "needs_background": "light"
     },
     "output_type": "display_data"
    }
   ],
   "source": [
    "plt.plot(epoch_losses)"
   ]
  },
  {
   "cell_type": "markdown",
   "metadata": {},
   "source": [
    "Expected 0.19 - 0.18"
   ]
  },
  {
   "cell_type": "markdown",
   "metadata": {
    "tags": []
   },
   "source": [
    "#### Hard training"
   ]
  },
  {
   "cell_type": "code",
   "execution_count": 320,
   "metadata": {},
   "outputs": [],
   "source": [
    "batch_size=256\n",
    "\n",
    "scaler = GradScaler()\n",
    "\n",
    "optimizer_model = optim.AdamW(filter(lambda p: p.requires_grad, model_conv.parameters()),\n",
    "                             lr=0.001, weight_decay=0.001)\n",
    "\n",
    "lr_scheduler = torch.optim.lr_scheduler.OneCycleLR(optimizer_model,\n",
    "                                                   max_lr=0.001,\n",
    "                                                   anneal_strategy='linear',\n",
    "                                                   epochs=20,\n",
    "                                                   steps_per_epoch=int(num_training_samples/batch_size),\n",
    "                                                   three_phase=True)"
   ]
  },
  {
   "cell_type": "code",
   "execution_count": 321,
   "metadata": {
    "colab": {
     "base_uri": "https://localhost:8080/"
    },
    "id": "Sw2hA1aQCQx3",
    "outputId": "f9f84986-1a75-4239-a6a1-80f1fa0d99b0",
    "tags": []
   },
   "outputs": [
    {
     "name": "stderr",
     "output_type": "stream",
     "text": [
      "Epoch 1 - Loss : 0.197880 - Learning Rate : 0.000202: 100%|███████████████████████████████████████████████████████████████| 16/16 [07:14<00:00, 27.18s/it]\n"
     ]
    },
    {
     "name": "stdout",
     "output_type": "stream",
     "text": [
      "Epoch 1 - Loss 0.214728\n"
     ]
    },
    {
     "name": "stderr",
     "output_type": "stream",
     "text": [
      "Epoch 2 - Loss : 0.177340 - Learning Rate : 0.000363: 100%|███████████████████████████████████████████████████████████████| 16/16 [06:59<00:00, 26.23s/it]\n"
     ]
    },
    {
     "name": "stdout",
     "output_type": "stream",
     "text": [
      "Epoch 2 - Loss 0.185545\n"
     ]
    },
    {
     "name": "stderr",
     "output_type": "stream",
     "text": [
      "Epoch 3 - Loss : 0.171030 - Learning Rate : 0.000525: 100%|███████████████████████████████████████████████████████████████| 16/16 [06:54<00:00, 25.90s/it]\n"
     ]
    },
    {
     "name": "stdout",
     "output_type": "stream",
     "text": [
      "Epoch 3 - Loss 0.172828\n"
     ]
    },
    {
     "name": "stderr",
     "output_type": "stream",
     "text": [
      "Epoch 4 - Loss : 0.163279 - Learning Rate : 0.000687: 100%|███████████████████████████████████████████████████████████████| 16/16 [06:48<00:00, 25.53s/it]\n"
     ]
    },
    {
     "name": "stdout",
     "output_type": "stream",
     "text": [
      "Epoch 4 - Loss 0.167517\n"
     ]
    },
    {
     "name": "stderr",
     "output_type": "stream",
     "text": [
      "Epoch 5 - Loss : 0.155634 - Learning Rate : 0.000848: 100%|███████████████████████████████████████████████████████████████| 16/16 [07:04<00:00, 26.52s/it]\n"
     ]
    },
    {
     "name": "stdout",
     "output_type": "stream",
     "text": [
      "Epoch 5 - Loss 0.158635\n"
     ]
    },
    {
     "name": "stderr",
     "output_type": "stream",
     "text": [
      "Epoch 6 - Loss : 0.157898 - Learning Rate : 0.000990: 100%|███████████████████████████████████████████████████████████████| 16/16 [06:58<00:00, 26.14s/it]\n"
     ]
    },
    {
     "name": "stdout",
     "output_type": "stream",
     "text": [
      "Epoch 6 - Loss 0.153417\n"
     ]
    },
    {
     "name": "stderr",
     "output_type": "stream",
     "text": [
      "Epoch 7 - Loss : 0.142581 - Learning Rate : 0.000828: 100%|███████████████████████████████████████████████████████████████| 16/16 [07:02<00:00, 26.42s/it]\n"
     ]
    },
    {
     "name": "stdout",
     "output_type": "stream",
     "text": [
      "Epoch 7 - Loss 0.148330\n"
     ]
    },
    {
     "name": "stderr",
     "output_type": "stream",
     "text": [
      "Epoch 8 - Loss : 0.152484 - Learning Rate : 0.000667: 100%|███████████████████████████████████████████████████████████████| 16/16 [07:23<00:00, 27.75s/it]\n"
     ]
    },
    {
     "name": "stdout",
     "output_type": "stream",
     "text": [
      "Epoch 8 - Loss 0.147837\n"
     ]
    },
    {
     "name": "stderr",
     "output_type": "stream",
     "text": [
      "Epoch 9 - Loss : 0.154404 - Learning Rate : 0.000505: 100%|███████████████████████████████████████████████████████████████| 16/16 [07:12<00:00, 27.02s/it]\n"
     ]
    },
    {
     "name": "stdout",
     "output_type": "stream",
     "text": [
      "Epoch 9 - Loss 0.142565\n"
     ]
    },
    {
     "name": "stderr",
     "output_type": "stream",
     "text": [
      "Epoch 10 - Loss : 0.143230 - Learning Rate : 0.000343: 100%|██████████████████████████████████████████████████████████████| 16/16 [06:59<00:00, 26.23s/it]\n"
     ]
    },
    {
     "name": "stdout",
     "output_type": "stream",
     "text": [
      "Epoch 10 - Loss 0.142564\n"
     ]
    },
    {
     "name": "stderr",
     "output_type": "stream",
     "text": [
      "Epoch 11 - Loss : 0.133959 - Learning Rate : 0.000181: 100%|██████████████████████████████████████████████████████████████| 16/16 [07:36<00:00, 28.56s/it]\n"
     ]
    },
    {
     "name": "stdout",
     "output_type": "stream",
     "text": [
      "Epoch 11 - Loss 0.140437\n"
     ]
    },
    {
     "name": "stderr",
     "output_type": "stream",
     "text": [
      "Epoch 12 - Loss : 0.133879 - Learning Rate : 0.000039: 100%|██████████████████████████████████████████████████████████████| 16/16 [07:32<00:00, 28.27s/it]\n"
     ]
    },
    {
     "name": "stdout",
     "output_type": "stream",
     "text": [
      "Epoch 12 - Loss 0.141398\n"
     ]
    },
    {
     "name": "stderr",
     "output_type": "stream",
     "text": [
      "Epoch 13 - Loss : 0.136676 - Learning Rate : 0.000034: 100%|██████████████████████████████████████████████████████████████| 16/16 [07:48<00:00, 29.30s/it]\n"
     ]
    },
    {
     "name": "stdout",
     "output_type": "stream",
     "text": [
      "Epoch 13 - Loss 0.139853\n"
     ]
    },
    {
     "name": "stderr",
     "output_type": "stream",
     "text": [
      "Epoch 14 - Loss : 0.159993 - Learning Rate : 0.000029: 100%|██████████████████████████████████████████████████████████████| 16/16 [07:41<00:00, 28.85s/it]\n"
     ]
    },
    {
     "name": "stdout",
     "output_type": "stream",
     "text": [
      "Epoch 14 - Loss 0.142699\n"
     ]
    },
    {
     "name": "stderr",
     "output_type": "stream",
     "text": [
      "Epoch 15 - Loss : 0.137948 - Learning Rate : 0.000024: 100%|██████████████████████████████████████████████████████████████| 16/16 [07:38<00:00, 28.63s/it]\n"
     ]
    },
    {
     "name": "stdout",
     "output_type": "stream",
     "text": [
      "Epoch 15 - Loss 0.142159\n"
     ]
    },
    {
     "name": "stderr",
     "output_type": "stream",
     "text": [
      "Epoch 16 - Loss : 0.134495 - Learning Rate : 0.000020: 100%|██████████████████████████████████████████████████████████████| 16/16 [07:37<00:00, 28.58s/it]\n"
     ]
    },
    {
     "name": "stdout",
     "output_type": "stream",
     "text": [
      "Epoch 16 - Loss 0.138696\n"
     ]
    },
    {
     "name": "stderr",
     "output_type": "stream",
     "text": [
      "Epoch 17 - Loss : 0.137628 - Learning Rate : 0.000015: 100%|██████████████████████████████████████████████████████████████| 16/16 [07:47<00:00, 29.23s/it]\n"
     ]
    },
    {
     "name": "stdout",
     "output_type": "stream",
     "text": [
      "Epoch 17 - Loss 0.137774\n"
     ]
    },
    {
     "name": "stderr",
     "output_type": "stream",
     "text": [
      "Epoch 18 - Loss : 0.133256 - Learning Rate : 0.000010: 100%|██████████████████████████████████████████████████████████████| 16/16 [07:37<00:00, 28.58s/it]\n"
     ]
    },
    {
     "name": "stdout",
     "output_type": "stream",
     "text": [
      "Epoch 18 - Loss 0.133230\n"
     ]
    },
    {
     "name": "stderr",
     "output_type": "stream",
     "text": [
      "Epoch 19 - Loss : 0.136208 - Learning Rate : 0.000005: 100%|██████████████████████████████████████████████████████████████| 16/16 [07:57<00:00, 29.84s/it]\n"
     ]
    },
    {
     "name": "stdout",
     "output_type": "stream",
     "text": [
      "Epoch 19 - Loss 0.137976\n"
     ]
    },
    {
     "name": "stderr",
     "output_type": "stream",
     "text": [
      "Epoch 20 - Loss : 0.136528 - Learning Rate : -0.000000: 100%|█████████████████████████████████████████████████████████████| 16/16 [07:57<00:00, 29.87s/it]"
     ]
    },
    {
     "name": "stdout",
     "output_type": "stream",
     "text": [
      "Epoch 20 - Loss 0.138401\n"
     ]
    },
    {
     "name": "stderr",
     "output_type": "stream",
     "text": [
      "\n"
     ]
    }
   ],
   "source": [
    "for epoch in range(20):\n",
    "    # The dataset is reinitialized on each epoch so that new samples are generated on evry epoch\n",
    "    dataset = EmbeddingDataset(IMAGE_DIR, pd.concat([train, extra]).reset_index(drop=True), num_training_samples,\n",
    "                               transform=img_transform, easy_mode=False)\n",
    "    data_loader = torch.utils.data.DataLoader(dataset, batch_size=batch_size, shuffle=True, num_workers=1)\n",
    "    pbar = tqdm.tqdm(data_loader)\n",
    "    \n",
    "    running_loss = 0.0\n",
    "    \n",
    "    for sample in pbar:\n",
    "        img1, img2, y =  sample\n",
    "        optimizer_model.zero_grad() \n",
    "        with autocast():\n",
    "            op1 = model_conv(img1.to(device))\n",
    "            op2 = model_conv(img2.to(device))\n",
    "            loss = cosine_loss(op1, op2, y.to(device))\n",
    "            # loss = cross_entropy(op, sample['id'].to(device))\n",
    "        scaler.scale(loss).backward()\n",
    "        scaler.step(optimizer_model)\n",
    "        scaler.update()\n",
    "        lr_scheduler.step()\n",
    "        running_loss += loss.item() * img1.size(0)\n",
    "        pbar.set_description('Epoch %d - Loss : %f - Learning Rate : %f' % (epoch+1, loss.item(), lr_scheduler.get_last_lr()[0]))\n",
    "    epoch_loss = running_loss / len(dataset)\n",
    "    epoch_losses.append(epoch_loss)\n",
    "    print('Epoch %d - Loss %f' % (epoch+1, epoch_loss))"
   ]
  },
  {
   "cell_type": "code",
   "execution_count": 284,
   "metadata": {},
   "outputs": [
    {
     "data": {
      "text/plain": [
       "0.09812385422701482"
      ]
     },
     "execution_count": 284,
     "metadata": {},
     "output_type": "execute_result"
    }
   ],
   "source": [
    "np.mean(epoch_losses)"
   ]
  },
  {
   "cell_type": "markdown",
   "metadata": {},
   "source": [
    "Expected 0.17 - 0.16"
   ]
  },
  {
   "cell_type": "code",
   "execution_count": 285,
   "metadata": {},
   "outputs": [
    {
     "data": {
      "text/plain": [
       "[<matplotlib.lines.Line2D at 0x7ff1be2d6790>]"
      ]
     },
     "execution_count": 285,
     "metadata": {},
     "output_type": "execute_result"
    },
    {
     "data": {
      "image/png": "[encoded data removed]",
      "text/plain": [
       "<Figure size 432x288 with 1 Axes>"
      ]
     },
     "metadata": {
      "needs_background": "light"
     },
     "output_type": "display_data"
    }
   ],
   "source": [
    "plt.plot(epoch_losses)"
   ]
  },
  {
   "cell_type": "markdown",
   "metadata": {},
   "source": [
    "#### Generate Predictions for Submission"
   ]
  },
  {
   "cell_type": "code",
   "execution_count": 286,
   "metadata": {},
   "outputs": [],
   "source": [
    "model_conv.eval();"
   ]
  },
  {
   "cell_type": "code",
   "execution_count": 322,
   "metadata": {},
   "outputs": [],
   "source": [
    "cosine_similarity = nn.CosineSimilarity(dim=-1)"
   ]
  },
  {
   "cell_type": "code",
   "execution_count": 323,
   "metadata": {},
   "outputs": [],
   "source": [
    "all_train_data = pd.concat([train, extra]).reset_index(drop=True)\n",
    "\n",
    "all_train_data = all_train_data.sort_values('turtle_id')"
   ]
  },
  {
   "cell_type": "code",
   "execution_count": 324,
   "metadata": {},
   "outputs": [],
   "source": [
    "indexing_dataset = TurtleDataSet(IMAGE_DIR, all_train_data, turtle_ids, transform=img_transform, include_orientation=False)"
   ]
  },
  {
   "cell_type": "code",
   "execution_count": 325,
   "metadata": {},
   "outputs": [],
   "source": [
    "data_loader = torch.utils.data.DataLoader(indexing_dataset, batch_size=512, shuffle=False, num_workers=1)"
   ]
  },
  {
   "cell_type": "code",
   "execution_count": 326,
   "metadata": {},
   "outputs": [
    {
     "name": "stderr",
     "output_type": "stream",
     "text": [
      "100%|█████████████████████████████████████████████████████████████████████████████████████████████████████████████████████| 26/26 [14:00<00:00, 32.33s/it]\n"
     ]
    }
   ],
   "source": [
    "ids = []\n",
    "emb_index = []\n",
    "with torch.no_grad():\n",
    "    for sample in tqdm.tqdm(data_loader):\n",
    "        emb = model_conv(sample['img'].to(device))\n",
    "        emb.to('cpu')\n",
    "        emb_index.append(emb)\n",
    "        ids.append(sample['id'])\n"
   ]
  },
  {
   "cell_type": "code",
   "execution_count": 327,
   "metadata": {},
   "outputs": [],
   "source": [
    "ids = torch.cat(ids)\n",
    "\n",
    "ids = ids.numpy()"
   ]
  },
  {
   "cell_type": "code",
   "execution_count": 328,
   "metadata": {},
   "outputs": [],
   "source": [
    "emb_index = torch.cat(emb_index)"
   ]
  },
  {
   "cell_type": "code",
   "execution_count": 329,
   "metadata": {},
   "outputs": [
    {
     "data": {
      "text/plain": [
       "torch.Size([12803, 64])"
      ]
     },
     "execution_count": 329,
     "metadata": {},
     "output_type": "execute_result"
    }
   ],
   "source": [
    "emb_index.shape"
   ]
  },
  {
   "cell_type": "code",
   "execution_count": 330,
   "metadata": {},
   "outputs": [],
   "source": [
    "test['turtle_id'] = ''"
   ]
  },
  {
   "cell_type": "code",
   "execution_count": 331,
   "metadata": {},
   "outputs": [],
   "source": [
    "test_dataset = TurtleDataSet(IMAGE_DIR, test, turtle_ids, transform=img_transform, include_orientation=False)"
   ]
  },
  {
   "cell_type": "code",
   "execution_count": 332,
   "metadata": {},
   "outputs": [
    {
     "name": "stderr",
     "output_type": "stream",
     "text": [
      "100%|███████████████████████████████████████████████████████████████████████████████████████████████████████████████████████| 1/1 [00:29<00:00, 29.70s/it]\n"
     ]
    }
   ],
   "source": [
    "data_loader = torch.utils.data.DataLoader(test_dataset, batch_size=len(test_dataset), shuffle=False, num_workers=1)\n",
    "\n",
    "# data_loader = torch.utils.data.DataLoader(test_dataset, batch_size=8, shuffle=False, num_workers=1)\n",
    "\n",
    "test_image_ids = []\n",
    "pbar = tqdm.tqdm(data_loader)\n",
    "model_conv.eval()\n",
    "with torch.no_grad():\n",
    "    for sample in pbar:\n",
    "        test_image_ids.extend(sample['image_id'])\n",
    "        test_emb = model_conv(sample['img'].to(device))\n",
    "        # break\n"
   ]
  },
  {
   "cell_type": "code",
   "execution_count": 333,
   "metadata": {},
   "outputs": [
    {
     "data": {
      "text/plain": [
       "490"
      ]
     },
     "execution_count": 333,
     "metadata": {},
     "output_type": "execute_result"
    }
   ],
   "source": [
    "test_emb.shape[0]"
   ]
  },
  {
   "cell_type": "code",
   "execution_count": 334,
   "metadata": {},
   "outputs": [],
   "source": [
    "\n",
    "preds = []\n",
    "for idx in range(test_emb.shape[0]):\n",
    "    pred = cosine_similarity(emb_index, test_emb[idx]).topk(k=5).indices.cpu().numpy()\n",
    "    pred = list(map(lambda x: ids[x], pred))\n",
    "    preds.append(pred)"
   ]
  },
  {
   "cell_type": "code",
   "execution_count": 335,
   "metadata": {
    "tags": []
   },
   "outputs": [],
   "source": [
    "preds = np.array(preds)"
   ]
  },
  {
   "cell_type": "code",
   "execution_count": 336,
   "metadata": {},
   "outputs": [
    {
     "data": {
      "text/plain": [
       "(490, 5)"
      ]
     },
     "execution_count": 336,
     "metadata": {},
     "output_type": "execute_result"
    }
   ],
   "source": [
    "preds.shape"
   ]
  },
  {
   "cell_type": "code",
   "execution_count": null,
   "metadata": {},
   "outputs": [],
   "source": []
  },
  {
   "cell_type": "code",
   "execution_count": 339,
   "metadata": {},
   "outputs": [],
   "source": [
    "preds = mapper(preds)"
   ]
  },
  {
   "cell_type": "code",
   "execution_count": 340,
   "metadata": {},
   "outputs": [
    {
     "data": {
      "text/plain": [
       "array([430, 420, 427, 427, 421])"
      ]
     },
     "execution_count": 340,
     "metadata": {},
     "output_type": "execute_result"
    }
   ],
   "source": [
    "(preds=='new_turtle').sum(axis=0)"
   ]
  },
  {
   "cell_type": "code",
   "execution_count": 341,
   "metadata": {},
   "outputs": [
    {
     "data": {
      "text/plain": [
       "490"
      ]
     },
     "execution_count": 341,
     "metadata": {},
     "output_type": "execute_result"
    }
   ],
   "source": [
    "len(test_image_ids)"
   ]
  },
  {
   "cell_type": "code",
   "execution_count": 342,
   "metadata": {},
   "outputs": [],
   "source": [
    "predictions_df = pd.DataFrame({'image_id': test_image_ids,\n",
    "                               'prediction1': preds[:, 0],\n",
    "                               'prediction2': preds[:, 1],\n",
    "                               'prediction3': preds[:, 2],\n",
    "                               'prediction4': preds[:, 3],\n",
    "                               'prediction5': preds[:, 4]})"
   ]
  },
  {
   "cell_type": "code",
   "execution_count": 345,
   "metadata": {},
   "outputs": [
    {
     "data": {
      "text/plain": [
       "image_id         0\n",
       "prediction1    430\n",
       "prediction2     56\n",
       "prediction3     17\n",
       "prediction4      5\n",
       "prediction5      9\n",
       "dtype: int64"
      ]
     },
     "execution_count": 345,
     "metadata": {},
     "output_type": "execute_result"
    }
   ],
   "source": [
    "(predictions_df=='new_turtle').sum()"
   ]
  },
  {
   "cell_type": "code",
   "execution_count": 346,
   "metadata": {},
   "outputs": [],
   "source": [
    "predictions_df.to_csv(os.path.join('predictions', dt.datetime.now().strftime(\"%Y-%m-%d-%H-%M.csv\")),\n",
    "                      index=False)"
   ]
  },
  {
   "cell_type": "code",
   "execution_count": 275,
   "metadata": {},
   "outputs": [
    {
     "data": {
      "text/plain": [
       "'2022-03-13-12-19.csv'"
      ]
     },
     "execution_count": 275,
     "metadata": {},
     "output_type": "execute_result"
    }
   ],
   "source": [
    "os.listdir('predictions/')[-1]"
   ]
  },
  {
   "cell_type": "code",
   "execution_count": 277,
   "metadata": {},
   "outputs": [],
   "source": [
    "class_predictions_df = pd.read_csv(os.path.join('predictions', os.listdir('predictions/')[-1]))"
   ]
  },
  {
   "cell_type": "code",
   "execution_count": 344,
   "metadata": {},
   "outputs": [],
   "source": [
    "for ix, predictions in predictions_df.iterrows():\n",
    "    if sum(predictions=='new_turtle')>1:\n",
    "        replace_pred_idx = predictions.index[predictions=='new_turtle'][1:].tolist()\n",
    "        predictions_df.loc[ix, replace_pred_idx] = class_predictions_df.loc[ix, replace_pred_idx]"
   ]
  },
  {
   "cell_type": "code",
   "execution_count": 178,
   "metadata": {},
   "outputs": [
    {
     "data": {
      "text/plain": [
       "prediction4    t_id_VP2NW7aV\n",
       "Name: 0, dtype: object"
      ]
     },
     "execution_count": 178,
     "metadata": {},
     "output_type": "execute_result"
    }
   ],
   "source": [
    "0"
   ]
  },
  {
   "cell_type": "markdown",
   "metadata": {},
   "source": [
    "### Triplet Loss"
   ]
  },
  {
   "cell_type": "code",
   "execution_count": 389,
   "metadata": {
    "id": "Lot0At3bTfqE"
   },
   "outputs": [],
   "source": [
    "triplet_loss = nn.TripletMarginWithDistanceLoss(distance_function=nn.CosineSimilarity(), margin=0.01)"
   ]
  },
  {
   "cell_type": "code",
   "execution_count": 17,
   "metadata": {
    "id": "lX7qyeFPVfnj"
   },
   "outputs": [],
   "source": [
    "device = torch.device(\"cuda:0\" if torch.cuda.is_available() else \"cpu\")"
   ]
  },
  {
   "cell_type": "code",
   "execution_count": 18,
   "metadata": {
    "colab": {
     "base_uri": "https://localhost:8080/"
    },
    "id": "oaQtb7RdVigm",
    "outputId": "a36a33d6-dbf2-40a5-bb6f-ba1d5adb67c7"
   },
   "outputs": [
    {
     "data": {
      "text/plain": [
       "device(type='cuda', index=0)"
      ]
     },
     "execution_count": 18,
     "metadata": {},
     "output_type": "execute_result"
    }
   ],
   "source": [
    "device"
   ]
  },
  {
   "cell_type": "code",
   "execution_count": 383,
   "metadata": {
    "id": "Fn6aJs0BbV-3"
   },
   "outputs": [],
   "source": [
    "dataset = TripletDataset(IMAGE_DIR, train, 32768, transform=img_transform, easy_mode=True)"
   ]
  },
  {
   "cell_type": "code",
   "execution_count": 390,
   "metadata": {
    "id": "Y0tRzpnKo27I"
   },
   "outputs": [],
   "source": [
    "data_loader = torch.utils.data.DataLoader(dataset, batch_size=8, shuffle=False, num_workers=2)"
   ]
  },
  {
   "cell_type": "code",
   "execution_count": 385,
   "metadata": {
    "id": "S2PGm8o7SRXy"
   },
   "outputs": [],
   "source": [
    "optimizer_model = optim.SGD(\n",
    "            params=filter(lambda p: p.requires_grad, model_conv.parameters()),\n",
    "            lr=0.0001,\n",
    "            momentum=0.0,\n",
    "            dampening=0,\n",
    "            nesterov=False\n",
    "        )\n",
    "\n",
    "# optimizer_model = optim.Adam(\n",
    "#             params=filter(lambda p: p.requires_grad, model_conv.parameters()),\n",
    "#             lr=0.001,\n",
    "#             betas=(0.9, 0.999),\n",
    "#             eps=1e-08,\n",
    "#             amsgrad=False,\n",
    "#             weight_decay=1e-5\n",
    "#         )"
   ]
  },
  {
   "cell_type": "code",
   "execution_count": 39,
   "metadata": {
    "colab": {
     "base_uri": "https://localhost:8080/"
    },
    "id": "gNi9KT6EtRF9",
    "outputId": "0e34b6db-3887-49f4-cf3c-7ef4bbe778d6"
   },
   "outputs": [
    {
     "data": {
      "text/plain": [
       "_CudaDeviceProperties(name='NVIDIA GeForce RTX 2060', major=7, minor=5, total_memory=6144MB, multi_processor_count=30)"
      ]
     },
     "execution_count": 39,
     "metadata": {},
     "output_type": "execute_result"
    }
   ],
   "source": [
    "torch.cuda.get_device_properties(device)"
   ]
  },
  {
   "cell_type": "code",
   "execution_count": 21,
   "metadata": {},
   "outputs": [],
   "source": [
    "scaler = GradScaler()"
   ]
  },
  {
   "cell_type": "code",
   "execution_count": 22,
   "metadata": {
    "id": "Y0tRzpnKo27I"
   },
   "outputs": [],
   "source": [
    "data_loader = torch.utils.data.DataLoader(dataset, batch_size=8, shuffle=False, num_workers=2)"
   ]
  },
  {
   "cell_type": "code",
   "execution_count": 386,
   "metadata": {
    "colab": {
     "base_uri": "https://localhost:8080/"
    },
    "id": "Sw2hA1aQCQx3",
    "outputId": "f9f84986-1a75-4239-a6a1-80f1fa0d99b0"
   },
   "outputs": [
    {
     "data": {
      "text/plain": [
       "AlexNet(\n",
       "  (features): Sequential(\n",
       "    (0): Conv2d(3, 64, kernel_size=(11, 11), stride=(4, 4), padding=(2, 2))\n",
       "    (1): ReLU(inplace=True)\n",
       "    (2): MaxPool2d(kernel_size=3, stride=2, padding=0, dilation=1, ceil_mode=False)\n",
       "    (3): Conv2d(64, 192, kernel_size=(5, 5), stride=(1, 1), padding=(2, 2))\n",
       "    (4): ReLU(inplace=True)\n",
       "    (5): MaxPool2d(kernel_size=3, stride=2, padding=0, dilation=1, ceil_mode=False)\n",
       "    (6): Conv2d(192, 384, kernel_size=(3, 3), stride=(1, 1), padding=(1, 1))\n",
       "    (7): ReLU(inplace=True)\n",
       "    (8): Conv2d(384, 256, kernel_size=(3, 3), stride=(1, 1), padding=(1, 1))\n",
       "    (9): ReLU(inplace=True)\n",
       "    (10): Conv2d(256, 256, kernel_size=(3, 3), stride=(1, 1), padding=(1, 1))\n",
       "    (11): ReLU(inplace=True)\n",
       "    (12): MaxPool2d(kernel_size=3, stride=2, padding=0, dilation=1, ceil_mode=False)\n",
       "  )\n",
       "  (avgpool): AdaptiveAvgPool2d(output_size=(6, 6))\n",
       "  (classifier): Sequential(\n",
       "    (0): Dropout(p=0.5, inplace=False)\n",
       "    (1): Linear(in_features=9216, out_features=4096, bias=True)\n",
       "    (2): ReLU(inplace=True)\n",
       "    (3): Dropout(p=0.5, inplace=False)\n",
       "    (4): Linear(in_features=4096, out_features=4096, bias=True)\n",
       "    (5): ReLU(inplace=True)\n",
       "    (6): Sequential(\n",
       "      (0): Linear(in_features=4096, out_features=101, bias=True)\n",
       "      (1): ReLU()\n",
       "    )\n",
       "  )\n",
       ")"
      ]
     },
     "execution_count": 386,
     "metadata": {},
     "output_type": "execute_result"
    }
   ],
   "source": [
    "model_conv.to(device)\n",
    "model_conv.train()"
   ]
  },
  {
   "cell_type": "code",
   "execution_count": 391,
   "metadata": {
    "colab": {
     "base_uri": "https://localhost:8080/"
    },
    "id": "Sw2hA1aQCQx3",
    "outputId": "f9f84986-1a75-4239-a6a1-80f1fa0d99b0"
   },
   "outputs": [
    {
     "name": "stderr",
     "output_type": "stream",
     "text": [
      "Loss : 0.010000: 100%|████████████████████████████████████████████████████████████████████████████████████████████████| 4096/4096 [36:59<00:00,  1.85it/s]\n"
     ]
    }
   ],
   "source": [
    "pbar = tqdm.tqdm(data_loader)\n",
    "# with torch.set_grad_enabled(True):\n",
    "for triplet in pbar:\n",
    "    optimizer_model.zero_grad() \n",
    "    with autocast():\n",
    "        anc_embed = model_conv(triplet['anc_img'].to(device))\n",
    "        pos_embed = model_conv(triplet['pos_img'].to(device))\n",
    "        neg_embed = model_conv(triplet['neg_img'].to(device))\n",
    "        loss = triplet_loss(anc_embed, pos_embed, pos_embed)\n",
    "    scaler.scale(loss).backward()\n",
    "    scaler.step(optimizer_model)\n",
    "    scaler.update()\n",
    "    pbar.set_description('Loss : %f' % loss.item())\n"
   ]
  },
  {
   "cell_type": "code",
   "execution_count": null,
   "metadata": {},
   "outputs": [],
   "source": [
    "reserved_mem = torch.cuda.memory_reserved(0)\n",
    "allocated_mem = torch.cuda.memory_allocated(0)"
   ]
  },
  {
   "cell_type": "code",
   "execution_count": null,
   "metadata": {
    "id": "L1UzR9gq4FGE"
   },
   "outputs": [],
   "source": [
    "from google.colab import files\n",
    "\n",
    "predictions_from_scratch.to_csv('submission.csv')\n",
    "files.download('submission.csv')"
   ]
  },
  {
   "cell_type": "code",
   "execution_count": 78,
   "metadata": {},
   "outputs": [
    {
     "data": {
      "text/plain": [
       "array([[ 29,  32,  21,   1,  43],\n",
       "       [ 54,  22,   3,  83,  14],\n",
       "       [ 15,   3,  63,  54,  65],\n",
       "       [ 71,  52,  84,  42,  27],\n",
       "       [ 13,  31,   3,  38,  25],\n",
       "       [ 59,  49,  33,  43,  90],\n",
       "       [  2,  30,  43,  76,   7],\n",
       "       [ 31, 100,  46,  16,  93]])"
      ]
     },
     "execution_count": 78,
     "metadata": {},
     "output_type": "execute_result"
    }
   ],
   "source": []
  },
  {
   "cell_type": "code",
   "execution_count": 95,
   "metadata": {},
   "outputs": [
    {
     "data": {
      "text/plain": [
       "array([['t_id_15bo4NKD', 't_id_Kc1tXDbJ', 't_id_DPYQnZyv',\n",
       "        't_id_qZ0iZYsC', 't_id_8b8sprYe'],\n",
       "       ['t_id_uJXT7dGu', 't_id_ROFhVsy2', 't_id_YjXYTCGC',\n",
       "        't_id_GOIvCduN', 't_id_NW7wn8TC'],\n",
       "       ['t_id_JI6ba2Yx', 't_id_YjXYTCGC', 't_id_D0gA44av',\n",
       "        't_id_uJXT7dGu', 't_id_MwnEYfqe'],\n",
       "       ['t_id_fxTQ5vHC', 't_id_72SiiZCp', 't_id_pCO59rOk',\n",
       "        't_id_bYageLYA', 't_id_mpuNp8mf'],\n",
       "       ['t_id_Ts5LyVQz', 't_id_Kf73l69A', 't_id_YjXYTCGC',\n",
       "        't_id_tjWepji1', 't_id_AOWArhGb'],\n",
       "       ['t_id_WDCMGvI4', 't_id_B7LaSiac', 't_id_2Yn71r7R',\n",
       "        't_id_8b8sprYe', 't_id_2E8o5Jtl'],\n",
       "       ['t_id_3b65X5Lw', 't_id_QqeoI5F3', 't_id_8b8sprYe',\n",
       "        't_id_VFb44eFm', 't_id_utw0thCe'],\n",
       "       ['t_id_Kf73l69A', 'new_turtle', 't_id_smNwfXAT', 't_id_ifWwxWF4',\n",
       "        't_id_Lhp87PBX']], dtype='<U13')"
      ]
     },
     "execution_count": 95,
     "metadata": {},
     "output_type": "execute_result"
    }
   ],
   "source": [
    "mapper(out.topk(5, dim=1).indices.cpu().numpy())"
   ]
  },
  {
   "cell_type": "code",
   "execution_count": 84,
   "metadata": {},
   "outputs": [],
   "source": [
    "sample_submission = read_csv_from_web('sample_submission.csv')"
   ]
  },
  {
   "cell_type": "code",
   "execution_count": 89,
   "metadata": {},
   "outputs": [
    {
     "data": {
      "text/html": [
       "<div>\n",
       "<style scoped>\n",
       "    .dataframe tbody tr th:only-of-type {\n",
       "        vertical-align: middle;\n",
       "    }\n",
       "\n",
       "    .dataframe tbody tr th {\n",
       "        vertical-align: top;\n",
       "    }\n",
       "\n",
       "    .dataframe thead th {\n",
       "        text-align: right;\n",
       "    }\n",
       "</style>\n",
       "<table border=\"1\" class=\"dataframe\">\n",
       "  <thead>\n",
       "    <tr style=\"text-align: right;\">\n",
       "      <th></th>\n",
       "      <th>image_id</th>\n",
       "      <th>prediction1</th>\n",
       "      <th>prediction2</th>\n",
       "      <th>prediction3</th>\n",
       "      <th>prediction4</th>\n",
       "      <th>prediction5</th>\n",
       "    </tr>\n",
       "  </thead>\n",
       "  <tbody>\n",
       "    <tr>\n",
       "      <th>0</th>\n",
       "      <td>ID_6NEDKOYZ</td>\n",
       "      <td>new_turtle</td>\n",
       "      <td>t_id_d6aYXtor</td>\n",
       "      <td>t_id_qZ0iZYsC</td>\n",
       "      <td>new_turtle</td>\n",
       "      <td>t_id_d6aYXtor</td>\n",
       "    </tr>\n",
       "    <tr>\n",
       "      <th>1</th>\n",
       "      <td>ID_57QZ4S9N</td>\n",
       "      <td>new_turtle</td>\n",
       "      <td>t_id_d6aYXtor</td>\n",
       "      <td>t_id_qZ0iZYsC</td>\n",
       "      <td>new_turtle</td>\n",
       "      <td>t_id_d6aYXtor</td>\n",
       "    </tr>\n",
       "    <tr>\n",
       "      <th>2</th>\n",
       "      <td>ID_OCGGJS5X</td>\n",
       "      <td>new_turtle</td>\n",
       "      <td>t_id_d6aYXtor</td>\n",
       "      <td>t_id_qZ0iZYsC</td>\n",
       "      <td>new_turtle</td>\n",
       "      <td>t_id_d6aYXtor</td>\n",
       "    </tr>\n",
       "    <tr>\n",
       "      <th>3</th>\n",
       "      <td>ID_R2993S3S</td>\n",
       "      <td>new_turtle</td>\n",
       "      <td>t_id_d6aYXtor</td>\n",
       "      <td>t_id_qZ0iZYsC</td>\n",
       "      <td>new_turtle</td>\n",
       "      <td>t_id_d6aYXtor</td>\n",
       "    </tr>\n",
       "    <tr>\n",
       "      <th>4</th>\n",
       "      <td>ID_2E011NB0</td>\n",
       "      <td>new_turtle</td>\n",
       "      <td>t_id_d6aYXtor</td>\n",
       "      <td>t_id_qZ0iZYsC</td>\n",
       "      <td>new_turtle</td>\n",
       "      <td>t_id_d6aYXtor</td>\n",
       "    </tr>\n",
       "  </tbody>\n",
       "</table>\n",
       "</div>"
      ],
      "text/plain": [
       "      image_id prediction1    prediction2    prediction3 prediction4  \\\n",
       "0  ID_6NEDKOYZ  new_turtle  t_id_d6aYXtor  t_id_qZ0iZYsC  new_turtle   \n",
       "1  ID_57QZ4S9N  new_turtle  t_id_d6aYXtor  t_id_qZ0iZYsC  new_turtle   \n",
       "2  ID_OCGGJS5X  new_turtle  t_id_d6aYXtor  t_id_qZ0iZYsC  new_turtle   \n",
       "3  ID_R2993S3S  new_turtle  t_id_d6aYXtor  t_id_qZ0iZYsC  new_turtle   \n",
       "4  ID_2E011NB0  new_turtle  t_id_d6aYXtor  t_id_qZ0iZYsC  new_turtle   \n",
       "\n",
       "     prediction5  \n",
       "0  t_id_d6aYXtor  \n",
       "1  t_id_d6aYXtor  \n",
       "2  t_id_d6aYXtor  \n",
       "3  t_id_d6aYXtor  \n",
       "4  t_id_d6aYXtor  "
      ]
     },
     "execution_count": 89,
     "metadata": {},
     "output_type": "execute_result"
    }
   ],
   "source": [
    "sample_submission.head()"
   ]
  },
  {
   "cell_type": "code",
   "execution_count": 110,
   "metadata": {},
   "outputs": [
    {
     "data": {
      "text/plain": [
       "torch.Size([8, 3, 128, 128])"
      ]
     },
     "execution_count": 110,
     "metadata": {},
     "output_type": "execute_result"
    }
   ],
   "source": [
    "sample['img'].shape"
   ]
  },
  {
   "cell_type": "code",
   "execution_count": 111,
   "metadata": {},
   "outputs": [
    {
     "data": {
      "text/plain": [
       "tensor([26,  8, 76, 60, 66, 66, 55, 34])"
      ]
     },
     "execution_count": 111,
     "metadata": {},
     "output_type": "execute_result"
    }
   ],
   "source": [
    "sample['id']"
   ]
  },
  {
   "cell_type": "code",
   "execution_count": 125,
   "metadata": {},
   "outputs": [
    {
     "data": {
      "text/plain": [
       "0.14583333333333331"
      ]
     },
     "execution_count": 125,
     "metadata": {},
     "output_type": "execute_result"
    }
   ],
   "source": [
    "mapk(sample['id'], out.topk(5, dim=1).indices)"
   ]
  },
  {
   "cell_type": "code",
   "execution_count": null,
   "metadata": {},
   "outputs": [],
   "source": [
    "mapk(out,)"
   ]
  },
  {
   "cell_type": "code",
   "execution_count": null,
   "metadata": {
    "id": "fRXRDtflz2xP"
   },
   "outputs": [],
   "source": [
    "predictions = predictions_from_scratch[[\n",
    "    \"prediction1\", \"prediction2\", \"prediction3\", \"prediction4\", \"prediction5\"\n",
    "]]\n",
    "y_predict = predictions.values.tolist()\n",
    "\n",
    "# We don't actually know the true labels for the test set, so for the purposes\n",
    "# of demonstration we just assume that all of the images in the test set are of\n",
    "# a single turtle:\n",
    "assumed_y = [\"t_id_d6aYXtor\"] * len(y_predict)\n",
    "\n",
    "mapk_result = mapk(assumed_y, y_predict, k=5)\n",
    "print(\"With made up test set labels, our mapk with k=5 is\", mapk_result)"
   ]
  },
  {
   "cell_type": "code",
   "execution_count": 33,
   "metadata": {},
   "outputs": [],
   "source": [
    "import tqdm\n",
    "\n",
    "from torch.cuda.amp import GradScaler, autocast"
   ]
  },
  {
   "cell_type": "code",
   "execution_count": 67,
   "metadata": {
    "tags": []
   },
   "outputs": [],
   "source": [
    "class TurtleNet(nn.Module):\n",
    "    def __init__(self, num_classes, num_orientations, embedding_size):\n",
    "        super(TurtleNet, self).__init__()\n",
    "        \n",
    "        basenet = torchvision.models.alexnet(pretrained=True)\n",
    "        \n",
    "        self.features = basenet.features\n",
    "        # Freeze the conv weights of the pretrained model\n",
    "        for param in self.features.parameters():\n",
    "            param.requires_grad = False\n",
    "        self.adpool = nn.AdaptiveAvgPool2d(output_size=(6, 6))\n",
    "        self.dense_layers0 = basenet.classifier\n",
    "        self.dense_layers0[6] = nn.Linear(in_features=4096, out_features=128, bias=True)\n",
    "        \n",
    "        # self.dense_layers1 = nn.Sequential(nn.ReLU(), nn.Linear(in_features=1024, out_features=256, bias=True), nn.ReLU())\n",
    "        # self.dense_layers2 = nn.Sequential(nn.Linear(in_features=512, out_features=256, bias=True), nn.ReLU())\n",
    "        \n",
    "        self.embedding_head = nn.Sequential(nn.Linear(in_features=128, out_features=embedding_size, bias=True), nn.ReLU())\n",
    "        self.classification_head = nn.Sequential(nn.Linear(in_features=128, out_features=num_classes, bias=True), nn.ReLU())\n",
    "        self.orientation_head = nn.Sequential(nn.Linear(in_features=128, out_features=num_orientations, bias=True), nn.ReLU())\n",
    "\n",
    "    def forward(self, x):\n",
    "        x = self.features(x)\n",
    "        x = self.adpool(x)\n",
    "        x = self.dense_layers0(x)\n",
    "        x = self.dense_layers1(x)\n",
    "        \n",
    "        y_aux = self.orientation_head(x)\n",
    "        y_main = self.classification_head(x)\n",
    "        y_emb = self.embedding_head(x)\n",
    "        \n",
    "        \n",
    "        \n",
    "        return y_main, y_aux, y_embed"
   ]
  },
  {
   "cell_type": "code",
   "execution_count": 68,
   "metadata": {},
   "outputs": [],
   "source": [
    "model = TurtleNet(num_classes=len(turtle_ids)+1, # +1 for the new turtle class\n",
    "                  num_orientations=3, \n",
    "                  embedding_size=64)"
   ]
  },
  {
   "cell_type": "code",
   "execution_count": 57,
   "metadata": {
    "id": "S2PGm8o7SRXy"
   },
   "outputs": [],
   "source": [
    "optimizer = optim.SGD(\n",
    "            params=filter(lambda p: p.requires_grad, model.parameters()),\n",
    "            lr=0.0001,\n",
    "            momentum=0.0,\n",
    "            dampening=0,\n",
    "            nesterov=False\n",
    "        )\n",
    "\n",
    "# optimizer_model = optim.Adam(\n",
    "#             params=filter(lambda p: p.requires_grad, model_conv.parameters()),\n",
    "#             lr=0.001,\n",
    "#             betas=(0.9, 0.999),\n",
    "#             eps=1e-08,\n",
    "#             amsgrad=False,\n",
    "#             weight_decay=1e-5\n",
    "#         )"
   ]
  },
  {
   "cell_type": "code",
   "execution_count": 37,
   "metadata": {
    "id": "qahW009DB72E"
   },
   "outputs": [],
   "source": [
    "img_transform = transforms.Compose([\n",
    "                                    SquarePad(),\n",
    "                                    transforms.PILToTensor(),\n",
    "                                    transforms.ConvertImageDtype(torch.float32),\n",
    "                                    transforms.Resize((128,128))\n",
    "                                                      ])"
   ]
  },
  {
   "cell_type": "code",
   "execution_count": 38,
   "metadata": {
    "id": "Y0tRzpnKo27I"
   },
   "outputs": [],
   "source": [
    "dataset = TurtleDataSet(IMAGE_DIR, train_df, turtle_ids, transform=img_transform, include_orientation=True)"
   ]
  },
  {
   "cell_type": "code",
   "execution_count": 39,
   "metadata": {},
   "outputs": [],
   "source": [
    "cross_entropy = nn.CrossEntropyLoss()"
   ]
  },
  {
   "cell_type": "code",
   "execution_count": 40,
   "metadata": {
    "colab": {
     "base_uri": "https://localhost:8080/"
    },
    "id": "Sw2hA1aQCQx3",
    "outputId": "f9f84986-1a75-4239-a6a1-80f1fa0d99b0"
   },
   "outputs": [
    {
     "data": {
      "text/plain": [
       "TurtleNet(\n",
       "  (features): Sequential(\n",
       "    (0): Conv2d(3, 64, kernel_size=(11, 11), stride=(4, 4), padding=(2, 2))\n",
       "    (1): ReLU(inplace=True)\n",
       "    (2): MaxPool2d(kernel_size=3, stride=2, padding=0, dilation=1, ceil_mode=False)\n",
       "    (3): Conv2d(64, 192, kernel_size=(5, 5), stride=(1, 1), padding=(2, 2))\n",
       "    (4): ReLU(inplace=True)\n",
       "    (5): MaxPool2d(kernel_size=3, stride=2, padding=0, dilation=1, ceil_mode=False)\n",
       "    (6): Conv2d(192, 384, kernel_size=(3, 3), stride=(1, 1), padding=(1, 1))\n",
       "    (7): ReLU(inplace=True)\n",
       "    (8): Conv2d(384, 256, kernel_size=(3, 3), stride=(1, 1), padding=(1, 1))\n",
       "    (9): ReLU(inplace=True)\n",
       "    (10): Conv2d(256, 256, kernel_size=(3, 3), stride=(1, 1), padding=(1, 1))\n",
       "    (11): ReLU(inplace=True)\n",
       "    (12): MaxPool2d(kernel_size=3, stride=2, padding=0, dilation=1, ceil_mode=False)\n",
       "  )\n",
       "  (dense_layers0): Sequential(\n",
       "    (0): Dropout(p=0.5, inplace=False)\n",
       "    (1): Linear(in_features=9216, out_features=4096, bias=True)\n",
       "    (2): ReLU(inplace=True)\n",
       "    (3): Dropout(p=0.5, inplace=False)\n",
       "    (4): Linear(in_features=4096, out_features=4096, bias=True)\n",
       "    (5): ReLU(inplace=True)\n",
       "    (6): Linear(in_features=4096, out_features=128, bias=True)\n",
       "  )\n",
       "  (embedding_head): Sequential(\n",
       "    (0): Linear(in_features=128, out_features=64, bias=True)\n",
       "    (1): ReLU()\n",
       "  )\n",
       "  (classification_head): Sequential(\n",
       "    (0): Linear(in_features=128, out_features=101, bias=True)\n",
       "    (1): ReLU()\n",
       "  )\n",
       "  (orientation_head): Sequential(\n",
       "    (0): Linear(in_features=128, out_features=3, bias=True)\n",
       "    (1): ReLU()\n",
       "  )\n",
       ")"
      ]
     },
     "execution_count": 40,
     "metadata": {},
     "output_type": "execute_result"
    }
   ],
   "source": [
    "model.to(device)\n",
    "model.train()"
   ]
  },
  {
   "cell_type": "code",
   "execution_count": 69,
   "metadata": {},
   "outputs": [],
   "source": [
    "torch.cuda.empty_cache()"
   ]
  },
  {
   "cell_type": "code",
   "execution_count": 42,
   "metadata": {},
   "outputs": [],
   "source": [
    "scaler = GradScaler()"
   ]
  },
  {
   "cell_type": "code",
   "execution_count": 43,
   "metadata": {},
   "outputs": [],
   "source": [
    "lr_scheduler = torch.optim.lr_scheduler.CyclicLR(optimizer, \n",
    "                                                 base_lr=0.00001, \n",
    "                                                 max_lr=0.001, \n",
    "                                                 step_size_up=21, \n",
    "                                                 step_size_down=42)"
   ]
  },
  {
   "cell_type": "code",
   "execution_count": 44,
   "metadata": {
    "colab": {
     "base_uri": "https://localhost:8080/"
    },
    "id": "Sw2hA1aQCQx3",
    "outputId": "f9f84986-1a75-4239-a6a1-80f1fa0d99b0",
    "tags": []
   },
   "outputs": [],
   "source": [
    "top_k_precisions = []\n",
    "epoch_losses = []"
   ]
  },
  {
   "cell_type": "code",
   "execution_count": 50,
   "metadata": {},
   "outputs": [
    {
     "data": {
      "text/plain": [
       "tensor([ 73,  15,   8,  38,  48,  81,  72,  47,  75,  61,  56, 100,  65,  39,\n",
       "          4,  81])"
      ]
     },
     "execution_count": 50,
     "metadata": {},
     "output_type": "execute_result"
    }
   ],
   "source": [
    "sample['id']"
   ]
  },
  {
   "cell_type": "code",
   "execution_count": 51,
   "metadata": {},
   "outputs": [
    {
     "data": {
      "text/plain": [
       "tensor([0, 0, 1, 0, 1, 2, 2, 2, 1, 1, 0, 0, 2, 0, 2, 1])"
      ]
     },
     "execution_count": 51,
     "metadata": {},
     "output_type": "execute_result"
    }
   ],
   "source": [
    "sample['orientation']"
   ]
  },
  {
   "cell_type": "code",
   "execution_count": 71,
   "metadata": {},
   "outputs": [
    {
     "data": {
      "text/plain": [
       "TurtleNet(\n",
       "  (features): Sequential(\n",
       "    (0): Conv2d(3, 64, kernel_size=(11, 11), stride=(4, 4), padding=(2, 2))\n",
       "    (1): ReLU(inplace=True)\n",
       "    (2): MaxPool2d(kernel_size=3, stride=2, padding=0, dilation=1, ceil_mode=False)\n",
       "    (3): Conv2d(64, 192, kernel_size=(5, 5), stride=(1, 1), padding=(2, 2))\n",
       "    (4): ReLU(inplace=True)\n",
       "    (5): MaxPool2d(kernel_size=3, stride=2, padding=0, dilation=1, ceil_mode=False)\n",
       "    (6): Conv2d(192, 384, kernel_size=(3, 3), stride=(1, 1), padding=(1, 1))\n",
       "    (7): ReLU(inplace=True)\n",
       "    (8): Conv2d(384, 256, kernel_size=(3, 3), stride=(1, 1), padding=(1, 1))\n",
       "    (9): ReLU(inplace=True)\n",
       "    (10): Conv2d(256, 256, kernel_size=(3, 3), stride=(1, 1), padding=(1, 1))\n",
       "    (11): ReLU(inplace=True)\n",
       "    (12): MaxPool2d(kernel_size=3, stride=2, padding=0, dilation=1, ceil_mode=False)\n",
       "  )\n",
       "  (adpool): AdaptiveAvgPool2d(output_size=(6, 6))\n",
       "  (dense_layers0): Sequential(\n",
       "    (0): Dropout(p=0.5, inplace=False)\n",
       "    (1): Linear(in_features=9216, out_features=4096, bias=True)\n",
       "    (2): ReLU(inplace=True)\n",
       "    (3): Dropout(p=0.5, inplace=False)\n",
       "    (4): Linear(in_features=4096, out_features=4096, bias=True)\n",
       "    (5): ReLU(inplace=True)\n",
       "    (6): Linear(in_features=4096, out_features=128, bias=True)\n",
       "  )\n",
       "  (embedding_head): Sequential(\n",
       "    (0): Linear(in_features=128, out_features=64, bias=True)\n",
       "    (1): ReLU()\n",
       "  )\n",
       "  (classification_head): Sequential(\n",
       "    (0): Linear(in_features=128, out_features=101, bias=True)\n",
       "    (1): ReLU()\n",
       "  )\n",
       "  (orientation_head): Sequential(\n",
       "    (0): Linear(in_features=128, out_features=3, bias=True)\n",
       "    (1): ReLU()\n",
       "  )\n",
       ")"
      ]
     },
     "execution_count": 71,
     "metadata": {},
     "output_type": "execute_result"
    }
   ],
   "source": [
    "model.to('cpu')\n",
    "model.train()"
   ]
  },
  {
   "cell_type": "code",
   "execution_count": 72,
   "metadata": {},
   "outputs": [
    {
     "ename": "RuntimeError",
     "evalue": "mat1 and mat2 shapes cannot be multiplied (24576x6 and 9216x4096)",
     "output_type": "error",
     "traceback": [
      "\u001b[0;31m---------------------------------------------------------------------------\u001b[0m",
      "\u001b[0;31mRuntimeError\u001b[0m                              Traceback (most recent call last)",
      "Input \u001b[0;32mIn [72]\u001b[0m, in \u001b[0;36m<module>\u001b[0;34m\u001b[0m\n\u001b[0;32m----> 1\u001b[0m \u001b[43mmodel\u001b[49m\u001b[43m(\u001b[49m\u001b[43msample\u001b[49m\u001b[43m[\u001b[49m\u001b[38;5;124;43m'\u001b[39;49m\u001b[38;5;124;43mimg\u001b[39;49m\u001b[38;5;124;43m'\u001b[39;49m\u001b[43m]\u001b[49m\u001b[43m)\u001b[49m\n",
      "File \u001b[0;32m~/.conda/envs/torchenv/lib/python3.8/site-packages/torch/nn/modules/module.py:1051\u001b[0m, in \u001b[0;36mModule._call_impl\u001b[0;34m(self, *input, **kwargs)\u001b[0m\n\u001b[1;32m   1047\u001b[0m \u001b[38;5;66;03m# If we don't have any hooks, we want to skip the rest of the logic in\u001b[39;00m\n\u001b[1;32m   1048\u001b[0m \u001b[38;5;66;03m# this function, and just call forward.\u001b[39;00m\n\u001b[1;32m   1049\u001b[0m \u001b[38;5;28;01mif\u001b[39;00m \u001b[38;5;129;01mnot\u001b[39;00m (\u001b[38;5;28mself\u001b[39m\u001b[38;5;241m.\u001b[39m_backward_hooks \u001b[38;5;129;01mor\u001b[39;00m \u001b[38;5;28mself\u001b[39m\u001b[38;5;241m.\u001b[39m_forward_hooks \u001b[38;5;129;01mor\u001b[39;00m \u001b[38;5;28mself\u001b[39m\u001b[38;5;241m.\u001b[39m_forward_pre_hooks \u001b[38;5;129;01mor\u001b[39;00m _global_backward_hooks\n\u001b[1;32m   1050\u001b[0m         \u001b[38;5;129;01mor\u001b[39;00m _global_forward_hooks \u001b[38;5;129;01mor\u001b[39;00m _global_forward_pre_hooks):\n\u001b[0;32m-> 1051\u001b[0m     \u001b[38;5;28;01mreturn\u001b[39;00m \u001b[43mforward_call\u001b[49m\u001b[43m(\u001b[49m\u001b[38;5;241;43m*\u001b[39;49m\u001b[38;5;28;43minput\u001b[39;49m\u001b[43m,\u001b[49m\u001b[43m \u001b[49m\u001b[38;5;241;43m*\u001b[39;49m\u001b[38;5;241;43m*\u001b[39;49m\u001b[43mkwargs\u001b[49m\u001b[43m)\u001b[49m\n\u001b[1;32m   1052\u001b[0m \u001b[38;5;66;03m# Do not call functions when jit is used\u001b[39;00m\n\u001b[1;32m   1053\u001b[0m full_backward_hooks, non_full_backward_hooks \u001b[38;5;241m=\u001b[39m [], []\n",
      "Input \u001b[0;32mIn [67]\u001b[0m, in \u001b[0;36mTurtleNet.forward\u001b[0;34m(self, x)\u001b[0m\n\u001b[1;32m     23\u001b[0m x \u001b[38;5;241m=\u001b[39m \u001b[38;5;28mself\u001b[39m\u001b[38;5;241m.\u001b[39mfeatures(x)\n\u001b[1;32m     24\u001b[0m x \u001b[38;5;241m=\u001b[39m \u001b[38;5;28mself\u001b[39m\u001b[38;5;241m.\u001b[39madpool(x)\n\u001b[0;32m---> 25\u001b[0m x \u001b[38;5;241m=\u001b[39m \u001b[38;5;28;43mself\u001b[39;49m\u001b[38;5;241;43m.\u001b[39;49m\u001b[43mdense_layers0\u001b[49m\u001b[43m(\u001b[49m\u001b[43mx\u001b[49m\u001b[43m)\u001b[49m\n\u001b[1;32m     26\u001b[0m x \u001b[38;5;241m=\u001b[39m \u001b[38;5;28mself\u001b[39m\u001b[38;5;241m.\u001b[39mdense_layers1(x)\n\u001b[1;32m     28\u001b[0m y_aux \u001b[38;5;241m=\u001b[39m \u001b[38;5;28mself\u001b[39m\u001b[38;5;241m.\u001b[39morientation_head(x)\n",
      "File \u001b[0;32m~/.conda/envs/torchenv/lib/python3.8/site-packages/torch/nn/modules/module.py:1051\u001b[0m, in \u001b[0;36mModule._call_impl\u001b[0;34m(self, *input, **kwargs)\u001b[0m\n\u001b[1;32m   1047\u001b[0m \u001b[38;5;66;03m# If we don't have any hooks, we want to skip the rest of the logic in\u001b[39;00m\n\u001b[1;32m   1048\u001b[0m \u001b[38;5;66;03m# this function, and just call forward.\u001b[39;00m\n\u001b[1;32m   1049\u001b[0m \u001b[38;5;28;01mif\u001b[39;00m \u001b[38;5;129;01mnot\u001b[39;00m (\u001b[38;5;28mself\u001b[39m\u001b[38;5;241m.\u001b[39m_backward_hooks \u001b[38;5;129;01mor\u001b[39;00m \u001b[38;5;28mself\u001b[39m\u001b[38;5;241m.\u001b[39m_forward_hooks \u001b[38;5;129;01mor\u001b[39;00m \u001b[38;5;28mself\u001b[39m\u001b[38;5;241m.\u001b[39m_forward_pre_hooks \u001b[38;5;129;01mor\u001b[39;00m _global_backward_hooks\n\u001b[1;32m   1050\u001b[0m         \u001b[38;5;129;01mor\u001b[39;00m _global_forward_hooks \u001b[38;5;129;01mor\u001b[39;00m _global_forward_pre_hooks):\n\u001b[0;32m-> 1051\u001b[0m     \u001b[38;5;28;01mreturn\u001b[39;00m \u001b[43mforward_call\u001b[49m\u001b[43m(\u001b[49m\u001b[38;5;241;43m*\u001b[39;49m\u001b[38;5;28;43minput\u001b[39;49m\u001b[43m,\u001b[49m\u001b[43m \u001b[49m\u001b[38;5;241;43m*\u001b[39;49m\u001b[38;5;241;43m*\u001b[39;49m\u001b[43mkwargs\u001b[49m\u001b[43m)\u001b[49m\n\u001b[1;32m   1052\u001b[0m \u001b[38;5;66;03m# Do not call functions when jit is used\u001b[39;00m\n\u001b[1;32m   1053\u001b[0m full_backward_hooks, non_full_backward_hooks \u001b[38;5;241m=\u001b[39m [], []\n",
      "File \u001b[0;32m~/.conda/envs/torchenv/lib/python3.8/site-packages/torch/nn/modules/container.py:139\u001b[0m, in \u001b[0;36mSequential.forward\u001b[0;34m(self, input)\u001b[0m\n\u001b[1;32m    137\u001b[0m \u001b[38;5;28;01mdef\u001b[39;00m \u001b[38;5;21mforward\u001b[39m(\u001b[38;5;28mself\u001b[39m, \u001b[38;5;28minput\u001b[39m):\n\u001b[1;32m    138\u001b[0m     \u001b[38;5;28;01mfor\u001b[39;00m module \u001b[38;5;129;01min\u001b[39;00m \u001b[38;5;28mself\u001b[39m:\n\u001b[0;32m--> 139\u001b[0m         \u001b[38;5;28minput\u001b[39m \u001b[38;5;241m=\u001b[39m \u001b[43mmodule\u001b[49m\u001b[43m(\u001b[49m\u001b[38;5;28;43minput\u001b[39;49m\u001b[43m)\u001b[49m\n\u001b[1;32m    140\u001b[0m     \u001b[38;5;28;01mreturn\u001b[39;00m \u001b[38;5;28minput\u001b[39m\n",
      "File \u001b[0;32m~/.conda/envs/torchenv/lib/python3.8/site-packages/torch/nn/modules/module.py:1051\u001b[0m, in \u001b[0;36mModule._call_impl\u001b[0;34m(self, *input, **kwargs)\u001b[0m\n\u001b[1;32m   1047\u001b[0m \u001b[38;5;66;03m# If we don't have any hooks, we want to skip the rest of the logic in\u001b[39;00m\n\u001b[1;32m   1048\u001b[0m \u001b[38;5;66;03m# this function, and just call forward.\u001b[39;00m\n\u001b[1;32m   1049\u001b[0m \u001b[38;5;28;01mif\u001b[39;00m \u001b[38;5;129;01mnot\u001b[39;00m (\u001b[38;5;28mself\u001b[39m\u001b[38;5;241m.\u001b[39m_backward_hooks \u001b[38;5;129;01mor\u001b[39;00m \u001b[38;5;28mself\u001b[39m\u001b[38;5;241m.\u001b[39m_forward_hooks \u001b[38;5;129;01mor\u001b[39;00m \u001b[38;5;28mself\u001b[39m\u001b[38;5;241m.\u001b[39m_forward_pre_hooks \u001b[38;5;129;01mor\u001b[39;00m _global_backward_hooks\n\u001b[1;32m   1050\u001b[0m         \u001b[38;5;129;01mor\u001b[39;00m _global_forward_hooks \u001b[38;5;129;01mor\u001b[39;00m _global_forward_pre_hooks):\n\u001b[0;32m-> 1051\u001b[0m     \u001b[38;5;28;01mreturn\u001b[39;00m \u001b[43mforward_call\u001b[49m\u001b[43m(\u001b[49m\u001b[38;5;241;43m*\u001b[39;49m\u001b[38;5;28;43minput\u001b[39;49m\u001b[43m,\u001b[49m\u001b[43m \u001b[49m\u001b[38;5;241;43m*\u001b[39;49m\u001b[38;5;241;43m*\u001b[39;49m\u001b[43mkwargs\u001b[49m\u001b[43m)\u001b[49m\n\u001b[1;32m   1052\u001b[0m \u001b[38;5;66;03m# Do not call functions when jit is used\u001b[39;00m\n\u001b[1;32m   1053\u001b[0m full_backward_hooks, non_full_backward_hooks \u001b[38;5;241m=\u001b[39m [], []\n",
      "File \u001b[0;32m~/.conda/envs/torchenv/lib/python3.8/site-packages/torch/nn/modules/linear.py:96\u001b[0m, in \u001b[0;36mLinear.forward\u001b[0;34m(self, input)\u001b[0m\n\u001b[1;32m     95\u001b[0m \u001b[38;5;28;01mdef\u001b[39;00m \u001b[38;5;21mforward\u001b[39m(\u001b[38;5;28mself\u001b[39m, \u001b[38;5;28minput\u001b[39m: Tensor) \u001b[38;5;241m-\u001b[39m\u001b[38;5;241m>\u001b[39m Tensor:\n\u001b[0;32m---> 96\u001b[0m     \u001b[38;5;28;01mreturn\u001b[39;00m \u001b[43mF\u001b[49m\u001b[38;5;241;43m.\u001b[39;49m\u001b[43mlinear\u001b[49m\u001b[43m(\u001b[49m\u001b[38;5;28;43minput\u001b[39;49m\u001b[43m,\u001b[49m\u001b[43m \u001b[49m\u001b[38;5;28;43mself\u001b[39;49m\u001b[38;5;241;43m.\u001b[39;49m\u001b[43mweight\u001b[49m\u001b[43m,\u001b[49m\u001b[43m \u001b[49m\u001b[38;5;28;43mself\u001b[39;49m\u001b[38;5;241;43m.\u001b[39;49m\u001b[43mbias\u001b[49m\u001b[43m)\u001b[49m\n",
      "File \u001b[0;32m~/.conda/envs/torchenv/lib/python3.8/site-packages/torch/nn/functional.py:1847\u001b[0m, in \u001b[0;36mlinear\u001b[0;34m(input, weight, bias)\u001b[0m\n\u001b[1;32m   1845\u001b[0m \u001b[38;5;28;01mif\u001b[39;00m has_torch_function_variadic(\u001b[38;5;28minput\u001b[39m, weight):\n\u001b[1;32m   1846\u001b[0m     \u001b[38;5;28;01mreturn\u001b[39;00m handle_torch_function(linear, (\u001b[38;5;28minput\u001b[39m, weight), \u001b[38;5;28minput\u001b[39m, weight, bias\u001b[38;5;241m=\u001b[39mbias)\n\u001b[0;32m-> 1847\u001b[0m \u001b[38;5;28;01mreturn\u001b[39;00m \u001b[43mtorch\u001b[49m\u001b[38;5;241;43m.\u001b[39;49m\u001b[43m_C\u001b[49m\u001b[38;5;241;43m.\u001b[39;49m\u001b[43m_nn\u001b[49m\u001b[38;5;241;43m.\u001b[39;49m\u001b[43mlinear\u001b[49m\u001b[43m(\u001b[49m\u001b[38;5;28;43minput\u001b[39;49m\u001b[43m,\u001b[49m\u001b[43m \u001b[49m\u001b[43mweight\u001b[49m\u001b[43m,\u001b[49m\u001b[43m \u001b[49m\u001b[43mbias\u001b[49m\u001b[43m)\u001b[49m\n",
      "\u001b[0;31mRuntimeError\u001b[0m: mat1 and mat2 shapes cannot be multiplied (24576x6 and 9216x4096)"
     ]
    }
   ],
   "source": [
    "model(sample['img'])"
   ]
  },
  {
   "cell_type": "code",
   "execution_count": 45,
   "metadata": {
    "colab": {
     "base_uri": "https://localhost:8080/"
    },
    "id": "Sw2hA1aQCQx3",
    "outputId": "f9f84986-1a75-4239-a6a1-80f1fa0d99b0",
    "tags": []
   },
   "outputs": [
    {
     "name": "stderr",
     "output_type": "stream",
     "text": [
      "  0%|                                                                                                                                                                                      | 0/164 [00:00<?, ?it/s]/home/xion/.conda/envs/torchenv/lib/python3.8/site-packages/torch/nn/functional.py:718: UserWarning: Named tensors and all their associated APIs are an experimental feature and subject to change. Please do not use them for anything important until they are released as stable. (Triggered internally at  /opt/conda/conda-bld/pytorch_1623448278899/work/c10/core/TensorImpl.h:1156.)\n",
      "  return torch.max_pool2d(input, kernel_size, stride, padding, dilation, ceil_mode)\n",
      "  0%|                                                                                                                                                                                      | 0/164 [00:02<?, ?it/s]"
     ]
    },
    {
     "name": "stdout",
     "output_type": "stream",
     "text": [
      " ** On entry to GEMM_EX  parameter number 12 had an illegal value\n"
     ]
    },
    {
     "name": "stderr",
     "output_type": "stream",
     "text": [
      "\n"
     ]
    },
    {
     "ename": "RuntimeError",
     "evalue": "CUDA error: CUBLAS_STATUS_INVALID_VALUE when calling `cublasGemmEx( handle, opa, opb, m, n, k, &falpha, a, CUDA_R_16F, lda, b, CUDA_R_16F, ldb, &fbeta, c, CUDA_R_16F, ldc, CUDA_R_32F, CUBLAS_GEMM_DFALT_TENSOR_OP)`",
     "output_type": "error",
     "traceback": [
      "\u001b[0;31m---------------------------------------------------------------------------\u001b[0m",
      "\u001b[0;31mRuntimeError\u001b[0m                              Traceback (most recent call last)",
      "Input \u001b[0;32mIn [45]\u001b[0m, in \u001b[0;36m<module>\u001b[0;34m\u001b[0m\n\u001b[1;32m      9\u001b[0m optimizer\u001b[38;5;241m.\u001b[39mzero_grad() \n\u001b[1;32m     10\u001b[0m \u001b[38;5;28;01mwith\u001b[39;00m autocast():\n\u001b[0;32m---> 11\u001b[0m     op_main, op_aux, op_embed \u001b[38;5;241m=\u001b[39m \u001b[43mmodel\u001b[49m\u001b[43m(\u001b[49m\u001b[43msample\u001b[49m\u001b[43m[\u001b[49m\u001b[38;5;124;43m'\u001b[39;49m\u001b[38;5;124;43mimg\u001b[39;49m\u001b[38;5;124;43m'\u001b[39;49m\u001b[43m]\u001b[49m\u001b[38;5;241;43m.\u001b[39;49m\u001b[43mto\u001b[49m\u001b[43m(\u001b[49m\u001b[43mdevice\u001b[49m\u001b[43m)\u001b[49m\u001b[43m)\u001b[49m\n\u001b[1;32m     12\u001b[0m     loss1 \u001b[38;5;241m=\u001b[39m cross_entropy(op, sample[\u001b[38;5;124m'\u001b[39m\u001b[38;5;124mid\u001b[39m\u001b[38;5;124m'\u001b[39m]\u001b[38;5;241m.\u001b[39mto(device))\n\u001b[1;32m     13\u001b[0m     loss2 \u001b[38;5;241m=\u001b[39m cross_entropy(op, sample[\u001b[38;5;124m'\u001b[39m\u001b[38;5;124morientation\u001b[39m\u001b[38;5;124m'\u001b[39m]\u001b[38;5;241m.\u001b[39mto(device))\n",
      "File \u001b[0;32m~/.conda/envs/torchenv/lib/python3.8/site-packages/torch/nn/modules/module.py:1051\u001b[0m, in \u001b[0;36mModule._call_impl\u001b[0;34m(self, *input, **kwargs)\u001b[0m\n\u001b[1;32m   1047\u001b[0m \u001b[38;5;66;03m# If we don't have any hooks, we want to skip the rest of the logic in\u001b[39;00m\n\u001b[1;32m   1048\u001b[0m \u001b[38;5;66;03m# this function, and just call forward.\u001b[39;00m\n\u001b[1;32m   1049\u001b[0m \u001b[38;5;28;01mif\u001b[39;00m \u001b[38;5;129;01mnot\u001b[39;00m (\u001b[38;5;28mself\u001b[39m\u001b[38;5;241m.\u001b[39m_backward_hooks \u001b[38;5;129;01mor\u001b[39;00m \u001b[38;5;28mself\u001b[39m\u001b[38;5;241m.\u001b[39m_forward_hooks \u001b[38;5;129;01mor\u001b[39;00m \u001b[38;5;28mself\u001b[39m\u001b[38;5;241m.\u001b[39m_forward_pre_hooks \u001b[38;5;129;01mor\u001b[39;00m _global_backward_hooks\n\u001b[1;32m   1050\u001b[0m         \u001b[38;5;129;01mor\u001b[39;00m _global_forward_hooks \u001b[38;5;129;01mor\u001b[39;00m _global_forward_pre_hooks):\n\u001b[0;32m-> 1051\u001b[0m     \u001b[38;5;28;01mreturn\u001b[39;00m \u001b[43mforward_call\u001b[49m\u001b[43m(\u001b[49m\u001b[38;5;241;43m*\u001b[39;49m\u001b[38;5;28;43minput\u001b[39;49m\u001b[43m,\u001b[49m\u001b[43m \u001b[49m\u001b[38;5;241;43m*\u001b[39;49m\u001b[38;5;241;43m*\u001b[39;49m\u001b[43mkwargs\u001b[49m\u001b[43m)\u001b[49m\n\u001b[1;32m   1052\u001b[0m \u001b[38;5;66;03m# Do not call functions when jit is used\u001b[39;00m\n\u001b[1;32m   1053\u001b[0m full_backward_hooks, non_full_backward_hooks \u001b[38;5;241m=\u001b[39m [], []\n",
      "Input \u001b[0;32mIn [34]\u001b[0m, in \u001b[0;36mTurtleNet.forward\u001b[0;34m(self, x)\u001b[0m\n\u001b[1;32m     22\u001b[0m \u001b[38;5;28;01mdef\u001b[39;00m \u001b[38;5;21mforward\u001b[39m(\u001b[38;5;28mself\u001b[39m, x):\n\u001b[1;32m     23\u001b[0m     x \u001b[38;5;241m=\u001b[39m \u001b[38;5;28mself\u001b[39m\u001b[38;5;241m.\u001b[39mfeatures(x)\n\u001b[0;32m---> 24\u001b[0m     x \u001b[38;5;241m=\u001b[39m \u001b[38;5;28;43mself\u001b[39;49m\u001b[38;5;241;43m.\u001b[39;49m\u001b[43mdense_layers0\u001b[49m\u001b[43m(\u001b[49m\u001b[43mx\u001b[49m\u001b[43m)\u001b[49m\n\u001b[1;32m     26\u001b[0m     x \u001b[38;5;241m=\u001b[39m \u001b[38;5;28mself\u001b[39m\u001b[38;5;241m.\u001b[39mdense_layers1(x)\n\u001b[1;32m     28\u001b[0m     y_aux \u001b[38;5;241m=\u001b[39m \u001b[38;5;28mself\u001b[39m\u001b[38;5;241m.\u001b[39morientation_head(x)\n",
      "File \u001b[0;32m~/.conda/envs/torchenv/lib/python3.8/site-packages/torch/nn/modules/module.py:1051\u001b[0m, in \u001b[0;36mModule._call_impl\u001b[0;34m(self, *input, **kwargs)\u001b[0m\n\u001b[1;32m   1047\u001b[0m \u001b[38;5;66;03m# If we don't have any hooks, we want to skip the rest of the logic in\u001b[39;00m\n\u001b[1;32m   1048\u001b[0m \u001b[38;5;66;03m# this function, and just call forward.\u001b[39;00m\n\u001b[1;32m   1049\u001b[0m \u001b[38;5;28;01mif\u001b[39;00m \u001b[38;5;129;01mnot\u001b[39;00m (\u001b[38;5;28mself\u001b[39m\u001b[38;5;241m.\u001b[39m_backward_hooks \u001b[38;5;129;01mor\u001b[39;00m \u001b[38;5;28mself\u001b[39m\u001b[38;5;241m.\u001b[39m_forward_hooks \u001b[38;5;129;01mor\u001b[39;00m \u001b[38;5;28mself\u001b[39m\u001b[38;5;241m.\u001b[39m_forward_pre_hooks \u001b[38;5;129;01mor\u001b[39;00m _global_backward_hooks\n\u001b[1;32m   1050\u001b[0m         \u001b[38;5;129;01mor\u001b[39;00m _global_forward_hooks \u001b[38;5;129;01mor\u001b[39;00m _global_forward_pre_hooks):\n\u001b[0;32m-> 1051\u001b[0m     \u001b[38;5;28;01mreturn\u001b[39;00m \u001b[43mforward_call\u001b[49m\u001b[43m(\u001b[49m\u001b[38;5;241;43m*\u001b[39;49m\u001b[38;5;28;43minput\u001b[39;49m\u001b[43m,\u001b[49m\u001b[43m \u001b[49m\u001b[38;5;241;43m*\u001b[39;49m\u001b[38;5;241;43m*\u001b[39;49m\u001b[43mkwargs\u001b[49m\u001b[43m)\u001b[49m\n\u001b[1;32m   1052\u001b[0m \u001b[38;5;66;03m# Do not call functions when jit is used\u001b[39;00m\n\u001b[1;32m   1053\u001b[0m full_backward_hooks, non_full_backward_hooks \u001b[38;5;241m=\u001b[39m [], []\n",
      "File \u001b[0;32m~/.conda/envs/torchenv/lib/python3.8/site-packages/torch/nn/modules/container.py:139\u001b[0m, in \u001b[0;36mSequential.forward\u001b[0;34m(self, input)\u001b[0m\n\u001b[1;32m    137\u001b[0m \u001b[38;5;28;01mdef\u001b[39;00m \u001b[38;5;21mforward\u001b[39m(\u001b[38;5;28mself\u001b[39m, \u001b[38;5;28minput\u001b[39m):\n\u001b[1;32m    138\u001b[0m     \u001b[38;5;28;01mfor\u001b[39;00m module \u001b[38;5;129;01min\u001b[39;00m \u001b[38;5;28mself\u001b[39m:\n\u001b[0;32m--> 139\u001b[0m         \u001b[38;5;28minput\u001b[39m \u001b[38;5;241m=\u001b[39m \u001b[43mmodule\u001b[49m\u001b[43m(\u001b[49m\u001b[38;5;28;43minput\u001b[39;49m\u001b[43m)\u001b[49m\n\u001b[1;32m    140\u001b[0m     \u001b[38;5;28;01mreturn\u001b[39;00m \u001b[38;5;28minput\u001b[39m\n",
      "File \u001b[0;32m~/.conda/envs/torchenv/lib/python3.8/site-packages/torch/nn/modules/module.py:1051\u001b[0m, in \u001b[0;36mModule._call_impl\u001b[0;34m(self, *input, **kwargs)\u001b[0m\n\u001b[1;32m   1047\u001b[0m \u001b[38;5;66;03m# If we don't have any hooks, we want to skip the rest of the logic in\u001b[39;00m\n\u001b[1;32m   1048\u001b[0m \u001b[38;5;66;03m# this function, and just call forward.\u001b[39;00m\n\u001b[1;32m   1049\u001b[0m \u001b[38;5;28;01mif\u001b[39;00m \u001b[38;5;129;01mnot\u001b[39;00m (\u001b[38;5;28mself\u001b[39m\u001b[38;5;241m.\u001b[39m_backward_hooks \u001b[38;5;129;01mor\u001b[39;00m \u001b[38;5;28mself\u001b[39m\u001b[38;5;241m.\u001b[39m_forward_hooks \u001b[38;5;129;01mor\u001b[39;00m \u001b[38;5;28mself\u001b[39m\u001b[38;5;241m.\u001b[39m_forward_pre_hooks \u001b[38;5;129;01mor\u001b[39;00m _global_backward_hooks\n\u001b[1;32m   1050\u001b[0m         \u001b[38;5;129;01mor\u001b[39;00m _global_forward_hooks \u001b[38;5;129;01mor\u001b[39;00m _global_forward_pre_hooks):\n\u001b[0;32m-> 1051\u001b[0m     \u001b[38;5;28;01mreturn\u001b[39;00m \u001b[43mforward_call\u001b[49m\u001b[43m(\u001b[49m\u001b[38;5;241;43m*\u001b[39;49m\u001b[38;5;28;43minput\u001b[39;49m\u001b[43m,\u001b[49m\u001b[43m \u001b[49m\u001b[38;5;241;43m*\u001b[39;49m\u001b[38;5;241;43m*\u001b[39;49m\u001b[43mkwargs\u001b[49m\u001b[43m)\u001b[49m\n\u001b[1;32m   1052\u001b[0m \u001b[38;5;66;03m# Do not call functions when jit is used\u001b[39;00m\n\u001b[1;32m   1053\u001b[0m full_backward_hooks, non_full_backward_hooks \u001b[38;5;241m=\u001b[39m [], []\n",
      "File \u001b[0;32m~/.conda/envs/torchenv/lib/python3.8/site-packages/torch/nn/modules/linear.py:96\u001b[0m, in \u001b[0;36mLinear.forward\u001b[0;34m(self, input)\u001b[0m\n\u001b[1;32m     95\u001b[0m \u001b[38;5;28;01mdef\u001b[39;00m \u001b[38;5;21mforward\u001b[39m(\u001b[38;5;28mself\u001b[39m, \u001b[38;5;28minput\u001b[39m: Tensor) \u001b[38;5;241m-\u001b[39m\u001b[38;5;241m>\u001b[39m Tensor:\n\u001b[0;32m---> 96\u001b[0m     \u001b[38;5;28;01mreturn\u001b[39;00m \u001b[43mF\u001b[49m\u001b[38;5;241;43m.\u001b[39;49m\u001b[43mlinear\u001b[49m\u001b[43m(\u001b[49m\u001b[38;5;28;43minput\u001b[39;49m\u001b[43m,\u001b[49m\u001b[43m \u001b[49m\u001b[38;5;28;43mself\u001b[39;49m\u001b[38;5;241;43m.\u001b[39;49m\u001b[43mweight\u001b[49m\u001b[43m,\u001b[49m\u001b[43m \u001b[49m\u001b[38;5;28;43mself\u001b[39;49m\u001b[38;5;241;43m.\u001b[39;49m\u001b[43mbias\u001b[49m\u001b[43m)\u001b[49m\n",
      "File \u001b[0;32m~/.conda/envs/torchenv/lib/python3.8/site-packages/torch/nn/functional.py:1847\u001b[0m, in \u001b[0;36mlinear\u001b[0;34m(input, weight, bias)\u001b[0m\n\u001b[1;32m   1845\u001b[0m \u001b[38;5;28;01mif\u001b[39;00m has_torch_function_variadic(\u001b[38;5;28minput\u001b[39m, weight):\n\u001b[1;32m   1846\u001b[0m     \u001b[38;5;28;01mreturn\u001b[39;00m handle_torch_function(linear, (\u001b[38;5;28minput\u001b[39m, weight), \u001b[38;5;28minput\u001b[39m, weight, bias\u001b[38;5;241m=\u001b[39mbias)\n\u001b[0;32m-> 1847\u001b[0m \u001b[38;5;28;01mreturn\u001b[39;00m \u001b[43mtorch\u001b[49m\u001b[38;5;241;43m.\u001b[39;49m\u001b[43m_C\u001b[49m\u001b[38;5;241;43m.\u001b[39;49m\u001b[43m_nn\u001b[49m\u001b[38;5;241;43m.\u001b[39;49m\u001b[43mlinear\u001b[49m\u001b[43m(\u001b[49m\u001b[38;5;28;43minput\u001b[39;49m\u001b[43m,\u001b[49m\u001b[43m \u001b[49m\u001b[43mweight\u001b[49m\u001b[43m,\u001b[49m\u001b[43m \u001b[49m\u001b[43mbias\u001b[49m\u001b[43m)\u001b[49m\n",
      "\u001b[0;31mRuntimeError\u001b[0m: CUDA error: CUBLAS_STATUS_INVALID_VALUE when calling `cublasGemmEx( handle, opa, opb, m, n, k, &falpha, a, CUDA_R_16F, lda, b, CUDA_R_16F, ldb, &fbeta, c, CUDA_R_16F, ldc, CUDA_R_32F, CUBLAS_GEMM_DFALT_TENSOR_OP)`"
     ]
    }
   ],
   "source": [
    "for epoch in range(25):\n",
    "    \n",
    "    data_loader = torch.utils.data.DataLoader(dataset, batch_size=16, shuffle=True, num_workers=1)\n",
    "    pbar = tqdm.tqdm(data_loader)\n",
    "    \n",
    "    running_loss = 0.0\n",
    "    \n",
    "    for sample in pbar:\n",
    "        optimizer.zero_grad() \n",
    "        with autocast():\n",
    "            op_main, op_aux, op_embed = model(sample['img'].to(device))\n",
    "            loss1 = cross_entropy(op, sample['id'].to(device))\n",
    "            loss2 = cross_entropy(op, sample['orientation'].to(device))\n",
    "            loss = loss1+0.4*loss2\n",
    "            \n",
    "        scaler.scale(loss).backward()\n",
    "        scaler.step(optimizer_model)\n",
    "        scaler.update()\n",
    "        lr_scheduler.step()\n",
    "        running_loss += loss1.item() * sample['img'].size(0)\n",
    "        top_k_precision = mapk(sample['id'], op_main.topk(5, dim=1).indices)\n",
    "        top_k_precisions.append(top_k_precision)\n",
    "        pbar.set_description('Epoch %d - MAP@k : %f - Learning Rate : %f' % (epoch+1, top_k_precision, lr_scheduler.get_last_lr()[0]))\n",
    "    epoch_loss = running_loss / len(dataset)\n",
    "    epoch_losses.append(epoch_loss)\n",
    "    print('Epoch %d - MAP@k : %f - Loss %f' % (epoch+1, np.mean(top_k_precisions[-21:]), epoch_loss))"
   ]
  },
  {
   "cell_type": "code",
   "execution_count": 42,
   "metadata": {},
   "outputs": [],
   "source": [
    "torch.cuda.empty_cache()"
   ]
  },
  {
   "cell_type": "markdown",
   "metadata": {},
   "source": [
    "### Custom Model\n",
    "Trained from scratch"
   ]
  },
  {
   "cell_type": "code",
   "execution_count": 75,
   "metadata": {
    "tags": []
   },
   "outputs": [],
   "source": [
    "class TurtleNet(nn.Module):\n",
    "    def __init__(self):\n",
    "        super(TurtleNet, self).__init__()\n",
    "        \n",
    "        self.feature_extractor = nn.Sequential(\n",
    "            nn.Conv2d(1,64, kernel_size=(3, 3), stride=(1, 1), padding=(1, 1)),\n",
    "            nn.ReLU(),\n",
    "            nn.MaxPool2d(kernel_size=2, stride=2, padding=0, dilation=1, ceil_mode=False),\n",
    "            nn.Conv2d(64, 128, kernel_size=(3, 3), stride=(1, 1), padding=(1, 1)),\n",
    "            nn.ReLU(),\n",
    "            nn.MaxPool2d(kernel_size=2, stride=2, padding=0, dilation=1, ceil_mode=False),\n",
    "            nn.Conv2d(128, 256, kernel_size=(3, 3), stride=(1, 1), padding=(1, 1)),\n",
    "            nn.ReLU(),\n",
    "            nn.MaxPool2d(kernel_size=2, stride=2, padding=0, dilation=1, ceil_mode=False),\n",
    "            nn.Conv2d(256, 512, kernel_size=(3, 3), stride=(1, 1), padding=(1, 1)),\n",
    "            nn.ReLU(),\n",
    "            nn.MaxPool2d(kernel_size=2, stride=2, padding=0, dilation=1, ceil_mode=False),\n",
    "            nn.Flatten()\n",
    "        )\n",
    "        \n",
    "        self.feature_classifier = nn.Sequential(\n",
    "            nn.Dropout(p=0.5, inplace=False),\n",
    "            nn.Linear(in_features=32768, out_features=4096, bias=True),\n",
    "            nn.ReLU(inplace=True),\n",
    "            nn.Dropout(p=0.5, inplace=False),\n",
    "            nn.Linear(in_features=4096, out_features=512, bias=True),\n",
    "            nn.ReLU(inplace=True),\n",
    "            nn.Dropout(p=0.5, inplace=False),\n",
    "            nn.Linear(in_features=512, out_features=100, bias=True)\n",
    "        )\n",
    "\n",
    "    def forward(self, x):\n",
    "        x = self.feature_extractor(x)\n",
    "        x = self.feature_classifier(x)\n",
    "        return x "
   ]
  },
  {
   "cell_type": "code",
   "execution_count": 76,
   "metadata": {},
   "outputs": [],
   "source": [
    "model_conv = TurtleNet()"
   ]
  },
  {
   "cell_type": "code",
   "execution_count": 77,
   "metadata": {
    "id": "qahW009DB72E"
   },
   "outputs": [],
   "source": [
    "img_transform = transforms.Compose([\n",
    "                                    transforms.Grayscale(num_output_channels=1),\n",
    "                                    SquarePad(),\n",
    "                                    transforms.PILToTensor(),\n",
    "                                    transforms.ConvertImageDtype(torch.float32),\n",
    "                                    transforms.Resize((128,128))\n",
    "                                                      ])"
   ]
  },
  {
   "cell_type": "code",
   "execution_count": 54,
   "metadata": {},
   "outputs": [],
   "source": [
    "# Clear out anymemory if possible\n",
    "torch.cuda.empty_cache()"
   ]
  },
  {
   "cell_type": "code",
   "execution_count": 382,
   "metadata": {
    "colab": {
     "base_uri": "https://localhost:8080/"
    },
    "id": "Sw2hA1aQCQx3",
    "outputId": "f9f84986-1a75-4239-a6a1-80f1fa0d99b0"
   },
   "outputs": [
    {
     "data": {
      "text/plain": [
       "AlexNet(\n",
       "  (features): Sequential(\n",
       "    (0): Conv2d(3, 64, kernel_size=(11, 11), stride=(4, 4), padding=(2, 2))\n",
       "    (1): ReLU(inplace=True)\n",
       "    (2): MaxPool2d(kernel_size=3, stride=2, padding=0, dilation=1, ceil_mode=False)\n",
       "    (3): Conv2d(64, 192, kernel_size=(5, 5), stride=(1, 1), padding=(2, 2))\n",
       "    (4): ReLU(inplace=True)\n",
       "    (5): MaxPool2d(kernel_size=3, stride=2, padding=0, dilation=1, ceil_mode=False)\n",
       "    (6): Conv2d(192, 384, kernel_size=(3, 3), stride=(1, 1), padding=(1, 1))\n",
       "    (7): ReLU(inplace=True)\n",
       "    (8): Conv2d(384, 256, kernel_size=(3, 3), stride=(1, 1), padding=(1, 1))\n",
       "    (9): ReLU(inplace=True)\n",
       "    (10): Conv2d(256, 256, kernel_size=(3, 3), stride=(1, 1), padding=(1, 1))\n",
       "    (11): ReLU(inplace=True)\n",
       "    (12): MaxPool2d(kernel_size=3, stride=2, padding=0, dilation=1, ceil_mode=False)\n",
       "  )\n",
       "  (avgpool): AdaptiveAvgPool2d(output_size=(6, 6))\n",
       "  (classifier): Sequential(\n",
       "    (0): Dropout(p=0.5, inplace=False)\n",
       "    (1): Linear(in_features=9216, out_features=4096, bias=True)\n",
       "    (2): ReLU(inplace=True)\n",
       "    (3): Dropout(p=0.5, inplace=False)\n",
       "    (4): Linear(in_features=4096, out_features=4096, bias=True)\n",
       "    (5): ReLU(inplace=True)\n",
       "    (6): Sequential(\n",
       "      (0): Linear(in_features=4096, out_features=101, bias=True)\n",
       "      (1): ReLU()\n",
       "    )\n",
       "  )\n",
       ")"
      ]
     },
     "execution_count": 382,
     "metadata": {},
     "output_type": "execute_result"
    }
   ],
   "source": [
    "model_conv.to(device)\n",
    "model_conv.train()"
   ]
  },
  {
   "cell_type": "code",
   "execution_count": 81,
   "metadata": {},
   "outputs": [],
   "source": [
    "scaler = GradScaler()"
   ]
  },
  {
   "cell_type": "code",
   "execution_count": 84,
   "metadata": {
    "id": "Y0tRzpnKo27I"
   },
   "outputs": [],
   "source": [
    "dataset = TurtleDataSet(IMAGE_DIR, train, transform=img_transform)"
   ]
  },
  {
   "cell_type": "code",
   "execution_count": 82,
   "metadata": {
    "id": "S2PGm8o7SRXy"
   },
   "outputs": [],
   "source": [
    "optimizer_model = optim.SGD(\n",
    "            params=filter(lambda p: p.requires_grad, model_conv.parameters()),\n",
    "            lr=0.0001,\n",
    "            momentum=0.0,\n",
    "            dampening=0,\n",
    "            nesterov=False\n",
    "        )\n",
    "\n",
    "# optimizer_model = optim.Adam(\n",
    "#             params=filter(lambda p: p.requires_grad, model_conv.parameters()),\n",
    "#             lr=0.001,\n",
    "#             betas=(0.9, 0.999),\n",
    "#             eps=1e-08,\n",
    "#             amsgrad=False,\n",
    "#             weight_decay=1e-5\n",
    "#         )"
   ]
  },
  {
   "cell_type": "code",
   "execution_count": 85,
   "metadata": {
    "colab": {
     "base_uri": "https://localhost:8080/"
    },
    "id": "Sw2hA1aQCQx3",
    "outputId": "f9f84986-1a75-4239-a6a1-80f1fa0d99b0",
    "tags": []
   },
   "outputs": [
    {
     "name": "stderr",
     "output_type": "stream",
     "text": [
      "Epoch 1 - Loss : 4.601562: 100%|████████████████████████████████████████████████████████████████████████████████████████| 269/269 [01:31<00:00,  2.95it/s]\n",
      "Epoch 2 - Loss : 4.585938: 100%|████████████████████████████████████████████████████████████████████████████████████████| 269/269 [00:43<00:00,  6.23it/s]\n",
      "Epoch 3 - Loss : 4.609375: 100%|████████████████████████████████████████████████████████████████████████████████████████| 269/269 [00:43<00:00,  6.14it/s]\n",
      "Epoch 4 - Loss : 4.570312: 100%|████████████████████████████████████████████████████████████████████████████████████████| 269/269 [00:49<00:00,  5.47it/s]\n",
      "Epoch 5 - Loss : 4.585938: 100%|████████████████████████████████████████████████████████████████████████████████████████| 269/269 [00:47<00:00,  5.71it/s]\n",
      "Epoch 6 - Loss : 4.636719: 100%|████████████████████████████████████████████████████████████████████████████████████████| 269/269 [00:49<00:00,  5.42it/s]\n",
      "Epoch 7 - Loss : 4.570312: 100%|████████████████████████████████████████████████████████████████████████████████████████| 269/269 [00:49<00:00,  5.45it/s]\n",
      "Epoch 8 - Loss : 4.613281: 100%|████████████████████████████████████████████████████████████████████████████████████████| 269/269 [00:48<00:00,  5.55it/s]\n",
      "Epoch 9 - Loss : 4.617188: 100%|████████████████████████████████████████████████████████████████████████████████████████| 269/269 [00:48<00:00,  5.54it/s]\n",
      "Epoch 10 - Loss : 4.625000: 100%|███████████████████████████████████████████████████████████████████████████████████████| 269/269 [00:48<00:00,  5.51it/s]\n"
     ]
    }
   ],
   "source": [
    "\n",
    "# with torch.set_grad_enabled(True):\n",
    "for epoch in range(10):\n",
    "    \n",
    "    data_loader = torch.utils.data.DataLoader(dataset, batch_size=8, shuffle=True, num_workers=1)\n",
    "    pbar = tqdm.tqdm(data_loader)\n",
    "    for sample in pbar:\n",
    "        # break\n",
    "        optimizer_model.zero_grad() \n",
    "        with autocast():\n",
    "            op = model_conv(sample['img'].to(device))\n",
    "            loss = cross_entropy(op, sample['id'].to(device))\n",
    "        scaler.scale(loss).backward()\n",
    "        scaler.step(optimizer_model)\n",
    "        scaler.update()\n",
    "        pbar.set_description('Epoch %d - Loss : %f' % (epoch+1, loss.item()))\n"
   ]
  }
 ],
 "metadata": {
  "colab": {
   "collapsed_sections": [],
   "name": "Turtle_Recall.ipynb",
   "provenance": []
  },
  "kernelspec": {
   "display_name": "Python 3 (ipykernel)",
   "language": "python",
   "name": "python3"
  },
  "language_info": {
   "codemirror_mode": {
    "name": "ipython",
    "version": 3
   },
   "file_extension": ".py",
   "mimetype": "text/x-python",
   "name": "python",
   "nbconvert_exporter": "python",
   "pygments_lexer": "ipython3",
   "version": "3.8.8"
  }
 },
 "nbformat": 4,
 "nbformat_minor": 4
}
